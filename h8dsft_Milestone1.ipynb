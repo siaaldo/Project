{
 "cells": [
  {
   "cell_type": "markdown",
   "metadata": {},
   "source": [
    "# Perkenalan"
   ]
  },
  {
   "cell_type": "markdown",
   "metadata": {},
   "source": [
    "- Aldo Dwicahyo\n",
    "- Batch004"
   ]
  },
  {
   "cell_type": "markdown",
   "metadata": {},
   "source": [
    "# Import Pustaka"
   ]
  },
  {
   "cell_type": "code",
   "execution_count": 42,
   "metadata": {},
   "outputs": [],
   "source": [
    "%matplotlib inline\n",
    "import pandas as pd\n",
    "import matplotlib as mpl\n",
    "import matplotlib.pyplot as plt\n",
    "import numpy as np\n",
    "from sklearn.model_selection import train_test_split\n",
    "from sklearn.linear_model import LinearRegression\n",
    "from scipy import stats\n",
    "from sklearn.metrics import mean_squared_error\n",
    "from sklearn.metrics import mean_absolute_error\n",
    "import seaborn as sns\n",
    "from sklearn.preprocessing import MinMaxScaler\n",
    "from sklearn.linear_model import LogisticRegression\n",
    "from sklearn.metrics import accuracy_score\n",
    "from sklearn.metrics import classification_report\n",
    "from sklearn.svm import SVC\n",
    "from sklearn.metrics import confusion_matrix\n",
    "import matplotlib.pyplot as plt\n",
    "from sklearn.tree import DecisionTreeClassifier\n",
    "from sklearn.neighbors import KNeighborsClassifier\n",
    "from sklearn.ensemble import RandomForestClassifier\n",
    "from sklearn.ensemble import VotingClassifier\n",
    "from sklearn.ensemble import BaggingClassifier\n",
    "from sklearn.ensemble import GradientBoostingClassifier\n",
    "from sklearn.ensemble import AdaBoostClassifier\n",
    "from sklearn import metrics\n",
    "from mlxtend.plotting import plot_confusion_matrix\n",
    "import plotly.express as px\n",
    "import plotly.figure_factory as ff\n",
    "import plotly.graph_objects as go\n",
    "from sklearn.preprocessing import OneHotEncoder\n",
    "from sklearn.feature_selection import chi2\n",
    "from sklearn.impute import SimpleImputer\n",
    "from sklearn.compose import ColumnTransformer\n",
    "from sklearn.pipeline import Pipeline\n",
    "from sklearn.preprocessing import StandardScaler, OneHotEncoder, OrdinalEncoder\n",
    "from sklearn.naive_bayes import BernoulliNB\n",
    "from sklearn.naive_bayes import MultinomialNB\n",
    "from sklearn.naive_bayes import CategoricalNB\n",
    "from sklearn.model_selection import cross_val_score\n",
    "import sklearn.model_selection as ms\n",
    "from sklearn.model_selection import GridSearchCV\n",
    "from sklearn.base import BaseEstimator, TransformerMixin\n",
    "from sklearn.pipeline import FeatureUnion\n",
    "from sklearn.metrics import roc_auc_score\n",
    "from sklearn.metrics import roc_curve\n",
    "import warnings\n",
    "from sklearn.metrics import precision_recall_curve\n",
    "from sklearn.model_selection import cross_val_predict\n",
    "from sklearn.metrics import f1_score\n",
    "warnings.filterwarnings('ignore')\n"
   ]
  },
  {
   "cell_type": "markdown",
   "metadata": {},
   "source": [
    "# Data Loading"
   ]
  },
  {
   "cell_type": "code",
   "execution_count": 43,
   "metadata": {},
   "outputs": [],
   "source": [
    "df = pd.read_csv('bank-additional-full.csv', delimiter=';')"
   ]
  },
  {
   "cell_type": "code",
   "execution_count": 44,
   "metadata": {},
   "outputs": [
    {
     "data": {
      "text/html": [
       "<div>\n",
       "<style scoped>\n",
       "    .dataframe tbody tr th:only-of-type {\n",
       "        vertical-align: middle;\n",
       "    }\n",
       "\n",
       "    .dataframe tbody tr th {\n",
       "        vertical-align: top;\n",
       "    }\n",
       "\n",
       "    .dataframe thead th {\n",
       "        text-align: right;\n",
       "    }\n",
       "</style>\n",
       "<table border=\"1\" class=\"dataframe\">\n",
       "  <thead>\n",
       "    <tr style=\"text-align: right;\">\n",
       "      <th></th>\n",
       "      <th>age</th>\n",
       "      <th>job</th>\n",
       "      <th>marital</th>\n",
       "      <th>education</th>\n",
       "      <th>default</th>\n",
       "      <th>housing</th>\n",
       "      <th>loan</th>\n",
       "      <th>contact</th>\n",
       "      <th>month</th>\n",
       "      <th>day_of_week</th>\n",
       "      <th>...</th>\n",
       "      <th>campaign</th>\n",
       "      <th>pdays</th>\n",
       "      <th>previous</th>\n",
       "      <th>poutcome</th>\n",
       "      <th>emp.var.rate</th>\n",
       "      <th>cons.price.idx</th>\n",
       "      <th>cons.conf.idx</th>\n",
       "      <th>euribor3m</th>\n",
       "      <th>nr.employed</th>\n",
       "      <th>y</th>\n",
       "    </tr>\n",
       "  </thead>\n",
       "  <tbody>\n",
       "    <tr>\n",
       "      <th>0</th>\n",
       "      <td>56</td>\n",
       "      <td>housemaid</td>\n",
       "      <td>married</td>\n",
       "      <td>basic.4y</td>\n",
       "      <td>no</td>\n",
       "      <td>no</td>\n",
       "      <td>no</td>\n",
       "      <td>telephone</td>\n",
       "      <td>may</td>\n",
       "      <td>mon</td>\n",
       "      <td>...</td>\n",
       "      <td>1</td>\n",
       "      <td>999</td>\n",
       "      <td>0</td>\n",
       "      <td>nonexistent</td>\n",
       "      <td>1.1</td>\n",
       "      <td>93.994</td>\n",
       "      <td>-36.4</td>\n",
       "      <td>4.857</td>\n",
       "      <td>5191.0</td>\n",
       "      <td>no</td>\n",
       "    </tr>\n",
       "    <tr>\n",
       "      <th>1</th>\n",
       "      <td>57</td>\n",
       "      <td>services</td>\n",
       "      <td>married</td>\n",
       "      <td>high.school</td>\n",
       "      <td>unknown</td>\n",
       "      <td>no</td>\n",
       "      <td>no</td>\n",
       "      <td>telephone</td>\n",
       "      <td>may</td>\n",
       "      <td>mon</td>\n",
       "      <td>...</td>\n",
       "      <td>1</td>\n",
       "      <td>999</td>\n",
       "      <td>0</td>\n",
       "      <td>nonexistent</td>\n",
       "      <td>1.1</td>\n",
       "      <td>93.994</td>\n",
       "      <td>-36.4</td>\n",
       "      <td>4.857</td>\n",
       "      <td>5191.0</td>\n",
       "      <td>no</td>\n",
       "    </tr>\n",
       "    <tr>\n",
       "      <th>2</th>\n",
       "      <td>37</td>\n",
       "      <td>services</td>\n",
       "      <td>married</td>\n",
       "      <td>high.school</td>\n",
       "      <td>no</td>\n",
       "      <td>yes</td>\n",
       "      <td>no</td>\n",
       "      <td>telephone</td>\n",
       "      <td>may</td>\n",
       "      <td>mon</td>\n",
       "      <td>...</td>\n",
       "      <td>1</td>\n",
       "      <td>999</td>\n",
       "      <td>0</td>\n",
       "      <td>nonexistent</td>\n",
       "      <td>1.1</td>\n",
       "      <td>93.994</td>\n",
       "      <td>-36.4</td>\n",
       "      <td>4.857</td>\n",
       "      <td>5191.0</td>\n",
       "      <td>no</td>\n",
       "    </tr>\n",
       "    <tr>\n",
       "      <th>3</th>\n",
       "      <td>40</td>\n",
       "      <td>admin.</td>\n",
       "      <td>married</td>\n",
       "      <td>basic.6y</td>\n",
       "      <td>no</td>\n",
       "      <td>no</td>\n",
       "      <td>no</td>\n",
       "      <td>telephone</td>\n",
       "      <td>may</td>\n",
       "      <td>mon</td>\n",
       "      <td>...</td>\n",
       "      <td>1</td>\n",
       "      <td>999</td>\n",
       "      <td>0</td>\n",
       "      <td>nonexistent</td>\n",
       "      <td>1.1</td>\n",
       "      <td>93.994</td>\n",
       "      <td>-36.4</td>\n",
       "      <td>4.857</td>\n",
       "      <td>5191.0</td>\n",
       "      <td>no</td>\n",
       "    </tr>\n",
       "    <tr>\n",
       "      <th>4</th>\n",
       "      <td>56</td>\n",
       "      <td>services</td>\n",
       "      <td>married</td>\n",
       "      <td>high.school</td>\n",
       "      <td>no</td>\n",
       "      <td>no</td>\n",
       "      <td>yes</td>\n",
       "      <td>telephone</td>\n",
       "      <td>may</td>\n",
       "      <td>mon</td>\n",
       "      <td>...</td>\n",
       "      <td>1</td>\n",
       "      <td>999</td>\n",
       "      <td>0</td>\n",
       "      <td>nonexistent</td>\n",
       "      <td>1.1</td>\n",
       "      <td>93.994</td>\n",
       "      <td>-36.4</td>\n",
       "      <td>4.857</td>\n",
       "      <td>5191.0</td>\n",
       "      <td>no</td>\n",
       "    </tr>\n",
       "  </tbody>\n",
       "</table>\n",
       "<p>5 rows × 21 columns</p>\n",
       "</div>"
      ],
      "text/plain": [
       "   age        job  marital    education  default housing loan    contact  \\\n",
       "0   56  housemaid  married     basic.4y       no      no   no  telephone   \n",
       "1   57   services  married  high.school  unknown      no   no  telephone   \n",
       "2   37   services  married  high.school       no     yes   no  telephone   \n",
       "3   40     admin.  married     basic.6y       no      no   no  telephone   \n",
       "4   56   services  married  high.school       no      no  yes  telephone   \n",
       "\n",
       "  month day_of_week  ...  campaign  pdays  previous     poutcome emp.var.rate  \\\n",
       "0   may         mon  ...         1    999         0  nonexistent          1.1   \n",
       "1   may         mon  ...         1    999         0  nonexistent          1.1   \n",
       "2   may         mon  ...         1    999         0  nonexistent          1.1   \n",
       "3   may         mon  ...         1    999         0  nonexistent          1.1   \n",
       "4   may         mon  ...         1    999         0  nonexistent          1.1   \n",
       "\n",
       "   cons.price.idx  cons.conf.idx  euribor3m  nr.employed   y  \n",
       "0          93.994          -36.4      4.857       5191.0  no  \n",
       "1          93.994          -36.4      4.857       5191.0  no  \n",
       "2          93.994          -36.4      4.857       5191.0  no  \n",
       "3          93.994          -36.4      4.857       5191.0  no  \n",
       "4          93.994          -36.4      4.857       5191.0  no  \n",
       "\n",
       "[5 rows x 21 columns]"
      ]
     },
     "execution_count": 44,
     "metadata": {},
     "output_type": "execute_result"
    }
   ],
   "source": [
    "df.head()"
   ]
  },
  {
   "cell_type": "markdown",
   "metadata": {},
   "source": [
    "   1. age\n",
    "   2. job : type of job\n",
    "   3. marital : marital status\n",
    "   4. education\n",
    "   5. default: has credit in default?\n",
    "   6. housing: has housing loan?\n",
    "   7. loan: has personal loan?\n",
    "   8. contact: contact communication type\n",
    "   9. month: last contact month of year\n",
    "  10. day_of_week: last contact day of the week\n",
    "  11. duration: last contact duration, in seconds (numeric). Important note:  this attribute highly affects the output target (e.g., if duration=0 then y=\"no\"). Yet, the duration is not known before a call is performed. Also, after the end of the call y is obviously known. Thus, this input should only be included for benchmark purposes and should be discarded if the intention is to have a realistic predictive model.\n",
    "  12. campaign: number of contacts performed during this campaign and for this client\n",
    "  13. pdays: number of days that passed by after the client was last contacted from a previous campaign\n",
    "  14. previous: number of contacts performed before this campaign and for this client\n",
    "  15. poutcome: outcome of the previous marketing campaign\n",
    "  16. emp.var.rate: employment variation rate - quarterly indicator\n",
    "  17. cons.price.idx: consumer price index - monthly indicator     \n",
    "  18. cons.conf.idx: consumer confidence index - monthly indicator    \n",
    "  19. euribor3m: euribor 3 month rate - daily indicator\n",
    "  20. nr.employed: number of employees - quarterly indicator"
   ]
  },
  {
   "cell_type": "markdown",
   "metadata": {},
   "source": [
    "# Data Cleaning"
   ]
  },
  {
   "cell_type": "code",
   "execution_count": 45,
   "metadata": {},
   "outputs": [
    {
     "name": "stdout",
     "output_type": "stream",
     "text": [
      "<class 'pandas.core.frame.DataFrame'>\n",
      "RangeIndex: 41188 entries, 0 to 41187\n",
      "Data columns (total 21 columns):\n",
      " #   Column          Non-Null Count  Dtype  \n",
      "---  ------          --------------  -----  \n",
      " 0   age             41188 non-null  int64  \n",
      " 1   job             41188 non-null  object \n",
      " 2   marital         41188 non-null  object \n",
      " 3   education       41188 non-null  object \n",
      " 4   default         41188 non-null  object \n",
      " 5   housing         41188 non-null  object \n",
      " 6   loan            41188 non-null  object \n",
      " 7   contact         41188 non-null  object \n",
      " 8   month           41188 non-null  object \n",
      " 9   day_of_week     41188 non-null  object \n",
      " 10  duration        41188 non-null  int64  \n",
      " 11  campaign        41188 non-null  int64  \n",
      " 12  pdays           41188 non-null  int64  \n",
      " 13  previous        41188 non-null  int64  \n",
      " 14  poutcome        41188 non-null  object \n",
      " 15  emp.var.rate    41188 non-null  float64\n",
      " 16  cons.price.idx  41188 non-null  float64\n",
      " 17  cons.conf.idx   41188 non-null  float64\n",
      " 18  euribor3m       41188 non-null  float64\n",
      " 19  nr.employed     41188 non-null  float64\n",
      " 20  y               41188 non-null  object \n",
      "dtypes: float64(5), int64(5), object(11)\n",
      "memory usage: 6.6+ MB\n"
     ]
    }
   ],
   "source": [
    "df.info()"
   ]
  },
  {
   "cell_type": "markdown",
   "metadata": {},
   "source": [
    "mengubang y menjadi numerik untuk lebih mudah di akses"
   ]
  },
  {
   "cell_type": "code",
   "execution_count": 46,
   "metadata": {},
   "outputs": [],
   "source": [
    "df['y'] = df['y'].map({'yes': 1, 'no': 0})"
   ]
  },
  {
   "cell_type": "markdown",
   "metadata": {},
   "source": [
    "# Explorasi Data"
   ]
  },
  {
   "cell_type": "markdown",
   "metadata": {},
   "source": [
    "membuat variable untuk datatype object dan numeric"
   ]
  },
  {
   "cell_type": "code",
   "execution_count": 47,
   "metadata": {},
   "outputs": [],
   "source": [
    "obj_col = df.select_dtypes(include='object').columns.tolist()\n",
    "num_col = df.select_dtypes(include=np.number).columns.tolist()"
   ]
  },
  {
   "cell_type": "code",
   "execution_count": 48,
   "metadata": {},
   "outputs": [],
   "source": [
    "df_num = df[num_col]\n",
    "df_obj = df[obj_col]"
   ]
  },
  {
   "cell_type": "markdown",
   "metadata": {},
   "source": [
    "Melihat Distribusi dari y"
   ]
  },
  {
   "cell_type": "code",
   "execution_count": 49,
   "metadata": {},
   "outputs": [
    {
     "data": {
      "image/png": "[encoded data removed]",
      "text/plain": [
       "<Figure size 432x288 with 1 Axes>"
      ]
     },
     "metadata": {
      "needs_background": "light"
     },
     "output_type": "display_data"
    }
   ],
   "source": [
    "fig = sns.countplot(x='y', data=df)"
   ]
  },
  {
   "cell_type": "markdown",
   "metadata": {},
   "source": [
    "Persentase distribusi Yes dan No dari total dataset tidak seimbang"
   ]
  },
  {
   "cell_type": "markdown",
   "metadata": {},
   "source": [
    "Melihat distribusi data dari kolom job"
   ]
  },
  {
   "cell_type": "code",
   "execution_count": 50,
   "metadata": {},
   "outputs": [
    {
     "data": {
      "text/plain": [
       "<matplotlib.legend.Legend at 0x7f82f29739a0>"
      ]
     },
     "execution_count": 50,
     "metadata": {},
     "output_type": "execute_result"
    },
    {
     "data": {
      "image/png": "[encoded data removed]",
      "text/plain": [
       "<Figure size 1080x1080 with 1 Axes>"
      ]
     },
     "metadata": {
      "needs_background": "light"
     },
     "output_type": "display_data"
    }
   ],
   "source": [
    "job = pd.crosstab(df.job, df.y).reset_index()\n",
    "\n",
    "plt.figure(figsize=(15,15))\n",
    "\n",
    "plt.bar(job.job, job[0], label='not subs', color='red')\n",
    "plt.bar(job.job, job[1], label='subs', color='yellow')\n",
    "plt.legend()"
   ]
  },
  {
   "cell_type": "markdown",
   "metadata": {},
   "source": [
    "Mayoritas Pekerjaan dari dataset adalah **Admin** dibandingkan dengan pekerjaan lain "
   ]
  },
  {
   "cell_type": "markdown",
   "metadata": {},
   "source": [
    "melihat distribusi data dari kolom marital"
   ]
  },
  {
   "cell_type": "code",
   "execution_count": 51,
   "metadata": {},
   "outputs": [
    {
     "data": {
      "text/plain": [
       "<matplotlib.legend.Legend at 0x7f83245bc400>"
      ]
     },
     "execution_count": 51,
     "metadata": {},
     "output_type": "execute_result"
    },
    {
     "data": {
      "image/png": "[encoded data removed]",
      "text/plain": [
       "<Figure size 1080x1080 with 1 Axes>"
      ]
     },
     "metadata": {
      "needs_background": "light"
     },
     "output_type": "display_data"
    }
   ],
   "source": [
    "marital = pd.crosstab(df.marital, df.y).reset_index()\n",
    "\n",
    "plt.figure(figsize=(15,15))\n",
    "\n",
    "plt.bar(marital.marital, marital[0], label='not subs', color='red')\n",
    "plt.bar(marital.marital, marital[1], label='subs', color='yellow')\n",
    "plt.legend()"
   ]
  },
  {
   "cell_type": "markdown",
   "metadata": {},
   "source": [
    "Status pernikahan paling mayoritas adalah **married** dibandingkan dengan status yang lain"
   ]
  },
  {
   "cell_type": "markdown",
   "metadata": {},
   "source": [
    "melihat distribusi data dari kolom education"
   ]
  },
  {
   "cell_type": "code",
   "execution_count": 52,
   "metadata": {},
   "outputs": [
    {
     "data": {
      "text/plain": [
       "<matplotlib.legend.Legend at 0x7f8311665b20>"
      ]
     },
     "execution_count": 52,
     "metadata": {},
     "output_type": "execute_result"
    },
    {
     "data": {
      "image/png": "[encoded data removed]",
      "text/plain": [
       "<Figure size 1080x1080 with 1 Axes>"
      ]
     },
     "metadata": {
      "needs_background": "light"
     },
     "output_type": "display_data"
    }
   ],
   "source": [
    "backgroup = pd.crosstab(df.education, df.y).reset_index()\n",
    "\n",
    "plt.figure(figsize=(15,15))\n",
    "\n",
    "plt.bar(backgroup.education, backgroup[0], label='not subs', color='red')\n",
    "plt.bar(backgroup.education, backgroup[1], label='subs', color='yellow')\n",
    "plt.legend()"
   ]
  },
  {
   "cell_type": "markdown",
   "metadata": {},
   "source": [
    "Mayoritas background dari dataset adalah **university.degree** dibandingkan dengan background yang lain"
   ]
  },
  {
   "cell_type": "markdown",
   "metadata": {},
   "source": [
    "melihat distribusi data dari kolom default"
   ]
  },
  {
   "cell_type": "code",
   "execution_count": 53,
   "metadata": {},
   "outputs": [
    {
     "data": {
      "text/plain": [
       "<matplotlib.legend.Legend at 0x7f83122f4280>"
      ]
     },
     "execution_count": 53,
     "metadata": {},
     "output_type": "execute_result"
    },
    {
     "data": {
      "image/png": "[encoded data removed]",
      "text/plain": [
       "<Figure size 1080x1080 with 1 Axes>"
      ]
     },
     "metadata": {
      "needs_background": "light"
     },
     "output_type": "display_data"
    }
   ],
   "source": [
    "default = pd.crosstab(df.default, df.y).reset_index()\n",
    "\n",
    "plt.figure(figsize=(15,15))\n",
    "\n",
    "plt.bar(default.default, default[0], label='not subs', color='red')\n",
    "plt.bar(default.default, default[1], label='subs', color='yellow')\n",
    "plt.legend()"
   ]
  },
  {
   "cell_type": "markdown",
   "metadata": {},
   "source": [
    "Dari data diatas mayoritas data adalah **tidak punya credit**"
   ]
  },
  {
   "cell_type": "markdown",
   "metadata": {},
   "source": [
    "melihat distribusi data dari kolom housing"
   ]
  },
  {
   "cell_type": "code",
   "execution_count": 54,
   "metadata": {},
   "outputs": [
    {
     "data": {
      "text/plain": [
       "<matplotlib.legend.Legend at 0x7f83253fd400>"
      ]
     },
     "execution_count": 54,
     "metadata": {},
     "output_type": "execute_result"
    },
    {
     "data": {
      "image/png": "[encoded data removed]",
      "text/plain": [
       "<Figure size 1080x1080 with 1 Axes>"
      ]
     },
     "metadata": {
      "needs_background": "light"
     },
     "output_type": "display_data"
    }
   ],
   "source": [
    "housing = pd.crosstab(df.housing, df.y).reset_index()\n",
    "\n",
    "plt.figure(figsize=(15,15))\n",
    "\n",
    "plt.bar(housing.housing, housing[0], label='not subs', color='red')\n",
    "plt.bar(housing.housing, housing[1], label='subs', color='yellow')\n",
    "plt.legend()"
   ]
  },
  {
   "cell_type": "markdown",
   "metadata": {},
   "source": [
    "Untuk status Housing loan, mayoritas data terdistribusi ke yang **mempunyai housing loan**"
   ]
  },
  {
   "cell_type": "markdown",
   "metadata": {},
   "source": [
    "melihat distribusi data dari kolom loan"
   ]
  },
  {
   "cell_type": "code",
   "execution_count": 55,
   "metadata": {},
   "outputs": [
    {
     "data": {
      "text/plain": [
       "<matplotlib.legend.Legend at 0x7f82f29ea370>"
      ]
     },
     "execution_count": 55,
     "metadata": {},
     "output_type": "execute_result"
    },
    {
     "data": {
      "image/png": "[encoded data removed]",
      "text/plain": [
       "<Figure size 1080x1080 with 1 Axes>"
      ]
     },
     "metadata": {
      "needs_background": "light"
     },
     "output_type": "display_data"
    }
   ],
   "source": [
    "loan = pd.crosstab(df.loan, df.y).reset_index()\n",
    "\n",
    "plt.figure(figsize=(15,15))\n",
    "\n",
    "plt.bar(loan.loan, loan[0], label='not subs', color='red')\n",
    "plt.bar(loan.loan, loan[1], label='subs', color='yellow')\n",
    "plt.legend()"
   ]
  },
  {
   "cell_type": "markdown",
   "metadata": {},
   "source": [
    "Untuk data hutang pribadi ternyata mayoritas data terdistribusi ke yang **tidak memiliki hutang pribadi**"
   ]
  },
  {
   "cell_type": "markdown",
   "metadata": {},
   "source": [
    "melihat distribusi data dari kolom contact"
   ]
  },
  {
   "cell_type": "code",
   "execution_count": 56,
   "metadata": {},
   "outputs": [
    {
     "data": {
      "text/plain": [
       "<matplotlib.legend.Legend at 0x7f832540a700>"
      ]
     },
     "execution_count": 56,
     "metadata": {},
     "output_type": "execute_result"
    },
    {
     "data": {
      "image/png": "[encoded data removed]",
      "text/plain": [
       "<Figure size 1080x1080 with 1 Axes>"
      ]
     },
     "metadata": {
      "needs_background": "light"
     },
     "output_type": "display_data"
    }
   ],
   "source": [
    "contact = pd.crosstab(df.contact, df.y).reset_index()\n",
    "\n",
    "plt.figure(figsize=(15,15))\n",
    "\n",
    "plt.bar(contact.contact, contact[0], label='not subs', color='red')\n",
    "plt.bar(contact.contact, contact[1], label='subs', color='yellow')\n",
    "plt.legend()"
   ]
  },
  {
   "cell_type": "markdown",
   "metadata": {},
   "source": [
    "Untuk contact data, data mayoritas mengarah ke customer yang dicontact melalui **cellular**"
   ]
  },
  {
   "cell_type": "markdown",
   "metadata": {},
   "source": [
    "melihat distribusi data dari kolom month"
   ]
  },
  {
   "cell_type": "code",
   "execution_count": 57,
   "metadata": {},
   "outputs": [
    {
     "data": {
      "text/plain": [
       "<matplotlib.legend.Legend at 0x7f82f331be20>"
      ]
     },
     "execution_count": 57,
     "metadata": {},
     "output_type": "execute_result"
    },
    {
     "data": {
      "image/png": "[encoded data removed]",
      "text/plain": [
       "<Figure size 1080x1080 with 1 Axes>"
      ]
     },
     "metadata": {
      "needs_background": "light"
     },
     "output_type": "display_data"
    }
   ],
   "source": [
    "month = pd.crosstab(df.month, df.y).reset_index()\n",
    "\n",
    "plt.figure(figsize=(15,15))\n",
    "\n",
    "plt.bar(month.month, month[0], label='not subs', color='red')\n",
    "plt.bar(month.month, month[1], label='subs', color='yellow')\n",
    "plt.legend()"
   ]
  },
  {
   "cell_type": "markdown",
   "metadata": {},
   "source": [
    "Untuk data bulan, bulan yang paling banyak melakukan pengambilan data adalah dibulan **may**"
   ]
  },
  {
   "cell_type": "markdown",
   "metadata": {},
   "source": [
    "melihat distribusi data dari kolom day_of_week"
   ]
  },
  {
   "cell_type": "code",
   "execution_count": 58,
   "metadata": {},
   "outputs": [
    {
     "data": {
      "text/plain": [
       "<matplotlib.legend.Legend at 0x7f831227ef10>"
      ]
     },
     "execution_count": 58,
     "metadata": {},
     "output_type": "execute_result"
    },
    {
     "data": {
      "image/png": "[encoded data removed]",
      "text/plain": [
       "<Figure size 1080x1080 with 1 Axes>"
      ]
     },
     "metadata": {
      "needs_background": "light"
     },
     "output_type": "display_data"
    }
   ],
   "source": [
    "day_of_week = pd.crosstab(df.day_of_week, df.y).reset_index()\n",
    "\n",
    "plt.figure(figsize=(15,15))\n",
    "\n",
    "plt.bar(day_of_week.day_of_week, day_of_week[0], label='not subs', color='red')\n",
    "plt.bar(day_of_week.day_of_week, day_of_week[1], label='subs', color='yellow')\n",
    "plt.legend()"
   ]
  },
  {
   "cell_type": "markdown",
   "metadata": {},
   "source": [
    "untuk data hari contach perminggu, data terdistribusi secara merata"
   ]
  },
  {
   "cell_type": "markdown",
   "metadata": {},
   "source": [
    "Mencari kolom yang mempunyai korelasi terhadap label"
   ]
  },
  {
   "cell_type": "code",
   "execution_count": 59,
   "metadata": {},
   "outputs": [
    {
     "data": {
      "text/plain": [
       "<AxesSubplot:>"
      ]
     },
     "execution_count": 59,
     "metadata": {},
     "output_type": "execute_result"
    },
    {
     "data": {
      "image/png": "[encoded data removed]",
      "text/plain": [
       "<Figure size 1080x1080 with 2 Axes>"
      ]
     },
     "metadata": {
      "needs_background": "light"
     },
     "output_type": "display_data"
    }
   ],
   "source": [
    "plt.figure(figsize=(15,15))\n",
    "\n",
    "sns.heatmap(df.corr(), square=True, annot=True, fmt='.2f')"
   ]
  },
  {
   "cell_type": "markdown",
   "metadata": {},
   "source": [
    "dilihat dari heatmap diatas, saya menentukan treshold secara subjective dengan nilai +- 0.2"
   ]
  },
  {
   "cell_type": "code",
   "execution_count": 61,
   "metadata": {},
   "outputs": [],
   "source": [
    "tresh = 0.2 #making treshold\n",
    "goodCorr = [] #membuat list untuk nantinya di masukan features dengan good correlation\n",
    "\n",
    "for i in df_num.columns.tolist():\n",
    "    if df_num['y'].corr(df_num[i]) >= tresh or df_num['y'].corr(df_num[i]) <= -tresh:\n",
    "        goodCorr.append(i)"
   ]
  },
  {
   "cell_type": "markdown",
   "metadata": {},
   "source": [
    "kolom yang akan dijadikan feature adalah"
   ]
  },
  {
   "cell_type": "code",
   "execution_count": 62,
   "metadata": {},
   "outputs": [
    {
     "data": {
      "text/plain": [
       "['duration',\n",
       " 'pdays',\n",
       " 'previous',\n",
       " 'emp.var.rate',\n",
       " 'euribor3m',\n",
       " 'nr.employed',\n",
       " 'y']"
      ]
     },
     "execution_count": 62,
     "metadata": {},
     "output_type": "execute_result"
    }
   ],
   "source": [
    "goodCorr"
   ]
  },
  {
   "cell_type": "markdown",
   "metadata": {},
   "source": [
    "# Data Preprocessing"
   ]
  },
  {
   "cell_type": "markdown",
   "metadata": {},
   "source": [
    "## membuat duplikasi dataframe"
   ]
  },
  {
   "cell_type": "code",
   "execution_count": 63,
   "metadata": {},
   "outputs": [],
   "source": [
    "df1 = df.copy()"
   ]
  },
  {
   "cell_type": "markdown",
   "metadata": {},
   "source": [
    "menjadikan 1 antara semua kolom dengan datatype object dengan numeric data yang memiliki nilai korelasi dengan label"
   ]
  },
  {
   "cell_type": "code",
   "execution_count": 64,
   "metadata": {},
   "outputs": [],
   "source": [
    "df1 = df[obj_col + goodCorr]"
   ]
  },
  {
   "cell_type": "code",
   "execution_count": 65,
   "metadata": {},
   "outputs": [
    {
     "data": {
      "text/html": [
       "<div>\n",
       "<style scoped>\n",
       "    .dataframe tbody tr th:only-of-type {\n",
       "        vertical-align: middle;\n",
       "    }\n",
       "\n",
       "    .dataframe tbody tr th {\n",
       "        vertical-align: top;\n",
       "    }\n",
       "\n",
       "    .dataframe thead th {\n",
       "        text-align: right;\n",
       "    }\n",
       "</style>\n",
       "<table border=\"1\" class=\"dataframe\">\n",
       "  <thead>\n",
       "    <tr style=\"text-align: right;\">\n",
       "      <th></th>\n",
       "      <th>job</th>\n",
       "      <th>marital</th>\n",
       "      <th>education</th>\n",
       "      <th>default</th>\n",
       "      <th>housing</th>\n",
       "      <th>loan</th>\n",
       "      <th>contact</th>\n",
       "      <th>month</th>\n",
       "      <th>day_of_week</th>\n",
       "      <th>poutcome</th>\n",
       "      <th>duration</th>\n",
       "      <th>pdays</th>\n",
       "      <th>previous</th>\n",
       "      <th>emp.var.rate</th>\n",
       "      <th>euribor3m</th>\n",
       "      <th>nr.employed</th>\n",
       "      <th>y</th>\n",
       "    </tr>\n",
       "  </thead>\n",
       "  <tbody>\n",
       "    <tr>\n",
       "      <th>0</th>\n",
       "      <td>housemaid</td>\n",
       "      <td>married</td>\n",
       "      <td>basic.4y</td>\n",
       "      <td>no</td>\n",
       "      <td>no</td>\n",
       "      <td>no</td>\n",
       "      <td>telephone</td>\n",
       "      <td>may</td>\n",
       "      <td>mon</td>\n",
       "      <td>nonexistent</td>\n",
       "      <td>261</td>\n",
       "      <td>999</td>\n",
       "      <td>0</td>\n",
       "      <td>1.1</td>\n",
       "      <td>4.857</td>\n",
       "      <td>5191.0</td>\n",
       "      <td>0</td>\n",
       "    </tr>\n",
       "    <tr>\n",
       "      <th>1</th>\n",
       "      <td>services</td>\n",
       "      <td>married</td>\n",
       "      <td>high.school</td>\n",
       "      <td>unknown</td>\n",
       "      <td>no</td>\n",
       "      <td>no</td>\n",
       "      <td>telephone</td>\n",
       "      <td>may</td>\n",
       "      <td>mon</td>\n",
       "      <td>nonexistent</td>\n",
       "      <td>149</td>\n",
       "      <td>999</td>\n",
       "      <td>0</td>\n",
       "      <td>1.1</td>\n",
       "      <td>4.857</td>\n",
       "      <td>5191.0</td>\n",
       "      <td>0</td>\n",
       "    </tr>\n",
       "    <tr>\n",
       "      <th>2</th>\n",
       "      <td>services</td>\n",
       "      <td>married</td>\n",
       "      <td>high.school</td>\n",
       "      <td>no</td>\n",
       "      <td>yes</td>\n",
       "      <td>no</td>\n",
       "      <td>telephone</td>\n",
       "      <td>may</td>\n",
       "      <td>mon</td>\n",
       "      <td>nonexistent</td>\n",
       "      <td>226</td>\n",
       "      <td>999</td>\n",
       "      <td>0</td>\n",
       "      <td>1.1</td>\n",
       "      <td>4.857</td>\n",
       "      <td>5191.0</td>\n",
       "      <td>0</td>\n",
       "    </tr>\n",
       "    <tr>\n",
       "      <th>3</th>\n",
       "      <td>admin.</td>\n",
       "      <td>married</td>\n",
       "      <td>basic.6y</td>\n",
       "      <td>no</td>\n",
       "      <td>no</td>\n",
       "      <td>no</td>\n",
       "      <td>telephone</td>\n",
       "      <td>may</td>\n",
       "      <td>mon</td>\n",
       "      <td>nonexistent</td>\n",
       "      <td>151</td>\n",
       "      <td>999</td>\n",
       "      <td>0</td>\n",
       "      <td>1.1</td>\n",
       "      <td>4.857</td>\n",
       "      <td>5191.0</td>\n",
       "      <td>0</td>\n",
       "    </tr>\n",
       "    <tr>\n",
       "      <th>4</th>\n",
       "      <td>services</td>\n",
       "      <td>married</td>\n",
       "      <td>high.school</td>\n",
       "      <td>no</td>\n",
       "      <td>no</td>\n",
       "      <td>yes</td>\n",
       "      <td>telephone</td>\n",
       "      <td>may</td>\n",
       "      <td>mon</td>\n",
       "      <td>nonexistent</td>\n",
       "      <td>307</td>\n",
       "      <td>999</td>\n",
       "      <td>0</td>\n",
       "      <td>1.1</td>\n",
       "      <td>4.857</td>\n",
       "      <td>5191.0</td>\n",
       "      <td>0</td>\n",
       "    </tr>\n",
       "    <tr>\n",
       "      <th>...</th>\n",
       "      <td>...</td>\n",
       "      <td>...</td>\n",
       "      <td>...</td>\n",
       "      <td>...</td>\n",
       "      <td>...</td>\n",
       "      <td>...</td>\n",
       "      <td>...</td>\n",
       "      <td>...</td>\n",
       "      <td>...</td>\n",
       "      <td>...</td>\n",
       "      <td>...</td>\n",
       "      <td>...</td>\n",
       "      <td>...</td>\n",
       "      <td>...</td>\n",
       "      <td>...</td>\n",
       "      <td>...</td>\n",
       "      <td>...</td>\n",
       "    </tr>\n",
       "    <tr>\n",
       "      <th>41183</th>\n",
       "      <td>retired</td>\n",
       "      <td>married</td>\n",
       "      <td>professional.course</td>\n",
       "      <td>no</td>\n",
       "      <td>yes</td>\n",
       "      <td>no</td>\n",
       "      <td>cellular</td>\n",
       "      <td>nov</td>\n",
       "      <td>fri</td>\n",
       "      <td>nonexistent</td>\n",
       "      <td>334</td>\n",
       "      <td>999</td>\n",
       "      <td>0</td>\n",
       "      <td>-1.1</td>\n",
       "      <td>1.028</td>\n",
       "      <td>4963.6</td>\n",
       "      <td>1</td>\n",
       "    </tr>\n",
       "    <tr>\n",
       "      <th>41184</th>\n",
       "      <td>blue-collar</td>\n",
       "      <td>married</td>\n",
       "      <td>professional.course</td>\n",
       "      <td>no</td>\n",
       "      <td>no</td>\n",
       "      <td>no</td>\n",
       "      <td>cellular</td>\n",
       "      <td>nov</td>\n",
       "      <td>fri</td>\n",
       "      <td>nonexistent</td>\n",
       "      <td>383</td>\n",
       "      <td>999</td>\n",
       "      <td>0</td>\n",
       "      <td>-1.1</td>\n",
       "      <td>1.028</td>\n",
       "      <td>4963.6</td>\n",
       "      <td>0</td>\n",
       "    </tr>\n",
       "    <tr>\n",
       "      <th>41185</th>\n",
       "      <td>retired</td>\n",
       "      <td>married</td>\n",
       "      <td>university.degree</td>\n",
       "      <td>no</td>\n",
       "      <td>yes</td>\n",
       "      <td>no</td>\n",
       "      <td>cellular</td>\n",
       "      <td>nov</td>\n",
       "      <td>fri</td>\n",
       "      <td>nonexistent</td>\n",
       "      <td>189</td>\n",
       "      <td>999</td>\n",
       "      <td>0</td>\n",
       "      <td>-1.1</td>\n",
       "      <td>1.028</td>\n",
       "      <td>4963.6</td>\n",
       "      <td>0</td>\n",
       "    </tr>\n",
       "    <tr>\n",
       "      <th>41186</th>\n",
       "      <td>technician</td>\n",
       "      <td>married</td>\n",
       "      <td>professional.course</td>\n",
       "      <td>no</td>\n",
       "      <td>no</td>\n",
       "      <td>no</td>\n",
       "      <td>cellular</td>\n",
       "      <td>nov</td>\n",
       "      <td>fri</td>\n",
       "      <td>nonexistent</td>\n",
       "      <td>442</td>\n",
       "      <td>999</td>\n",
       "      <td>0</td>\n",
       "      <td>-1.1</td>\n",
       "      <td>1.028</td>\n",
       "      <td>4963.6</td>\n",
       "      <td>1</td>\n",
       "    </tr>\n",
       "    <tr>\n",
       "      <th>41187</th>\n",
       "      <td>retired</td>\n",
       "      <td>married</td>\n",
       "      <td>professional.course</td>\n",
       "      <td>no</td>\n",
       "      <td>yes</td>\n",
       "      <td>no</td>\n",
       "      <td>cellular</td>\n",
       "      <td>nov</td>\n",
       "      <td>fri</td>\n",
       "      <td>failure</td>\n",
       "      <td>239</td>\n",
       "      <td>999</td>\n",
       "      <td>1</td>\n",
       "      <td>-1.1</td>\n",
       "      <td>1.028</td>\n",
       "      <td>4963.6</td>\n",
       "      <td>0</td>\n",
       "    </tr>\n",
       "  </tbody>\n",
       "</table>\n",
       "<p>41188 rows × 17 columns</p>\n",
       "</div>"
      ],
      "text/plain": [
       "               job  marital            education  default housing loan  \\\n",
       "0        housemaid  married             basic.4y       no      no   no   \n",
       "1         services  married          high.school  unknown      no   no   \n",
       "2         services  married          high.school       no     yes   no   \n",
       "3           admin.  married             basic.6y       no      no   no   \n",
       "4         services  married          high.school       no      no  yes   \n",
       "...            ...      ...                  ...      ...     ...  ...   \n",
       "41183      retired  married  professional.course       no     yes   no   \n",
       "41184  blue-collar  married  professional.course       no      no   no   \n",
       "41185      retired  married    university.degree       no     yes   no   \n",
       "41186   technician  married  professional.course       no      no   no   \n",
       "41187      retired  married  professional.course       no     yes   no   \n",
       "\n",
       "         contact month day_of_week     poutcome  duration  pdays  previous  \\\n",
       "0      telephone   may         mon  nonexistent       261    999         0   \n",
       "1      telephone   may         mon  nonexistent       149    999         0   \n",
       "2      telephone   may         mon  nonexistent       226    999         0   \n",
       "3      telephone   may         mon  nonexistent       151    999         0   \n",
       "4      telephone   may         mon  nonexistent       307    999         0   \n",
       "...          ...   ...         ...          ...       ...    ...       ...   \n",
       "41183   cellular   nov         fri  nonexistent       334    999         0   \n",
       "41184   cellular   nov         fri  nonexistent       383    999         0   \n",
       "41185   cellular   nov         fri  nonexistent       189    999         0   \n",
       "41186   cellular   nov         fri  nonexistent       442    999         0   \n",
       "41187   cellular   nov         fri      failure       239    999         1   \n",
       "\n",
       "       emp.var.rate  euribor3m  nr.employed  y  \n",
       "0               1.1      4.857       5191.0  0  \n",
       "1               1.1      4.857       5191.0  0  \n",
       "2               1.1      4.857       5191.0  0  \n",
       "3               1.1      4.857       5191.0  0  \n",
       "4               1.1      4.857       5191.0  0  \n",
       "...             ...        ...          ... ..  \n",
       "41183          -1.1      1.028       4963.6  1  \n",
       "41184          -1.1      1.028       4963.6  0  \n",
       "41185          -1.1      1.028       4963.6  0  \n",
       "41186          -1.1      1.028       4963.6  1  \n",
       "41187          -1.1      1.028       4963.6  0  \n",
       "\n",
       "[41188 rows x 17 columns]"
      ]
     },
     "execution_count": 65,
     "metadata": {},
     "output_type": "execute_result"
    }
   ],
   "source": [
    "df1"
   ]
  },
  {
   "cell_type": "code",
   "execution_count": 66,
   "metadata": {},
   "outputs": [],
   "source": [
    "df1.rename(columns={'emp.var.rate':'emp_var_rate', 'nr.employed' : 'np_employed'}, inplace=True)"
   ]
  },
  {
   "cell_type": "code",
   "execution_count": 67,
   "metadata": {},
   "outputs": [],
   "source": [
    "x = df1.drop(df1.columns[-1], axis=1)\n",
    "y = df1['y']"
   ]
  },
  {
   "cell_type": "markdown",
   "metadata": {},
   "source": [
    "## train test split"
   ]
  },
  {
   "cell_type": "code",
   "execution_count": 68,
   "metadata": {},
   "outputs": [],
   "source": [
    "x_train, x_test, y_train, y_test = train_test_split(x, y, test_size=0.2, random_state=8, stratify=y)"
   ]
  },
  {
   "cell_type": "markdown",
   "metadata": {},
   "source": [
    "pendefinisian kolom obj dan numeric kolom pada data set x"
   ]
  },
  {
   "cell_type": "code",
   "execution_count": 69,
   "metadata": {},
   "outputs": [],
   "source": [
    "obj_col = x.select_dtypes(include='object').columns.tolist()\n",
    "num_col = x.select_dtypes(include=np.number).columns.tolist()"
   ]
  },
  {
   "cell_type": "markdown",
   "metadata": {},
   "source": [
    "## Column Transformer"
   ]
  },
  {
   "cell_type": "code",
   "execution_count": 70,
   "metadata": {},
   "outputs": [
    {
     "data": {
      "text/html": [
       "<div>\n",
       "<style scoped>\n",
       "    .dataframe tbody tr th:only-of-type {\n",
       "        vertical-align: middle;\n",
       "    }\n",
       "\n",
       "    .dataframe tbody tr th {\n",
       "        vertical-align: top;\n",
       "    }\n",
       "\n",
       "    .dataframe thead th {\n",
       "        text-align: right;\n",
       "    }\n",
       "</style>\n",
       "<table border=\"1\" class=\"dataframe\">\n",
       "  <thead>\n",
       "    <tr style=\"text-align: right;\">\n",
       "      <th></th>\n",
       "      <th>0</th>\n",
       "      <th>1</th>\n",
       "      <th>2</th>\n",
       "      <th>3</th>\n",
       "      <th>4</th>\n",
       "      <th>5</th>\n",
       "      <th>6</th>\n",
       "      <th>7</th>\n",
       "      <th>8</th>\n",
       "      <th>9</th>\n",
       "      <th>...</th>\n",
       "      <th>39</th>\n",
       "      <th>40</th>\n",
       "      <th>41</th>\n",
       "      <th>42</th>\n",
       "      <th>43</th>\n",
       "      <th>44</th>\n",
       "      <th>45</th>\n",
       "      <th>46</th>\n",
       "      <th>47</th>\n",
       "      <th>48</th>\n",
       "    </tr>\n",
       "  </thead>\n",
       "  <tbody>\n",
       "    <tr>\n",
       "      <th>0</th>\n",
       "      <td>-0.113062</td>\n",
       "      <td>0.196251</td>\n",
       "      <td>-0.350156</td>\n",
       "      <td>0.840022</td>\n",
       "      <td>0.774528</td>\n",
       "      <td>0.844937</td>\n",
       "      <td>0.0</td>\n",
       "      <td>0.0</td>\n",
       "      <td>0.0</td>\n",
       "      <td>0.0</td>\n",
       "      <td>...</td>\n",
       "      <td>0.0</td>\n",
       "      <td>0.0</td>\n",
       "      <td>0.0</td>\n",
       "      <td>0.0</td>\n",
       "      <td>0.0</td>\n",
       "      <td>0.0</td>\n",
       "      <td>0.0</td>\n",
       "      <td>1.0</td>\n",
       "      <td>1.0</td>\n",
       "      <td>0.0</td>\n",
       "    </tr>\n",
       "    <tr>\n",
       "      <th>1</th>\n",
       "      <td>-0.765179</td>\n",
       "      <td>0.196251</td>\n",
       "      <td>-0.350156</td>\n",
       "      <td>-1.197191</td>\n",
       "      <td>-1.253452</td>\n",
       "      <td>-0.938452</td>\n",
       "      <td>0.0</td>\n",
       "      <td>0.0</td>\n",
       "      <td>0.0</td>\n",
       "      <td>0.0</td>\n",
       "      <td>...</td>\n",
       "      <td>0.0</td>\n",
       "      <td>0.0</td>\n",
       "      <td>0.0</td>\n",
       "      <td>0.0</td>\n",
       "      <td>0.0</td>\n",
       "      <td>0.0</td>\n",
       "      <td>0.0</td>\n",
       "      <td>1.0</td>\n",
       "      <td>1.0</td>\n",
       "      <td>0.0</td>\n",
       "    </tr>\n",
       "    <tr>\n",
       "      <th>2</th>\n",
       "      <td>-0.439120</td>\n",
       "      <td>0.196251</td>\n",
       "      <td>1.662341</td>\n",
       "      <td>-0.114922</td>\n",
       "      <td>0.231504</td>\n",
       "      <td>0.398398</td>\n",
       "      <td>0.0</td>\n",
       "      <td>0.0</td>\n",
       "      <td>1.0</td>\n",
       "      <td>0.0</td>\n",
       "      <td>...</td>\n",
       "      <td>0.0</td>\n",
       "      <td>1.0</td>\n",
       "      <td>0.0</td>\n",
       "      <td>0.0</td>\n",
       "      <td>0.0</td>\n",
       "      <td>0.0</td>\n",
       "      <td>0.0</td>\n",
       "      <td>0.0</td>\n",
       "      <td>0.0</td>\n",
       "      <td>0.0</td>\n",
       "    </tr>\n",
       "    <tr>\n",
       "      <th>3</th>\n",
       "      <td>-0.611739</td>\n",
       "      <td>0.196251</td>\n",
       "      <td>1.662341</td>\n",
       "      <td>-1.197191</td>\n",
       "      <td>-1.342227</td>\n",
       "      <td>-0.938452</td>\n",
       "      <td>1.0</td>\n",
       "      <td>0.0</td>\n",
       "      <td>0.0</td>\n",
       "      <td>0.0</td>\n",
       "      <td>...</td>\n",
       "      <td>1.0</td>\n",
       "      <td>0.0</td>\n",
       "      <td>0.0</td>\n",
       "      <td>0.0</td>\n",
       "      <td>0.0</td>\n",
       "      <td>0.0</td>\n",
       "      <td>1.0</td>\n",
       "      <td>0.0</td>\n",
       "      <td>0.0</td>\n",
       "      <td>0.0</td>\n",
       "    </tr>\n",
       "    <tr>\n",
       "      <th>4</th>\n",
       "      <td>-0.139914</td>\n",
       "      <td>0.196251</td>\n",
       "      <td>3.674838</td>\n",
       "      <td>-1.897483</td>\n",
       "      <td>-1.579728</td>\n",
       "      <td>-1.255038</td>\n",
       "      <td>0.0</td>\n",
       "      <td>0.0</td>\n",
       "      <td>0.0</td>\n",
       "      <td>0.0</td>\n",
       "      <td>...</td>\n",
       "      <td>0.0</td>\n",
       "      <td>0.0</td>\n",
       "      <td>0.0</td>\n",
       "      <td>0.0</td>\n",
       "      <td>0.0</td>\n",
       "      <td>0.0</td>\n",
       "      <td>0.0</td>\n",
       "      <td>1.0</td>\n",
       "      <td>0.0</td>\n",
       "      <td>0.0</td>\n",
       "    </tr>\n",
       "    <tr>\n",
       "      <th>...</th>\n",
       "      <td>...</td>\n",
       "      <td>...</td>\n",
       "      <td>...</td>\n",
       "      <td>...</td>\n",
       "      <td>...</td>\n",
       "      <td>...</td>\n",
       "      <td>...</td>\n",
       "      <td>...</td>\n",
       "      <td>...</td>\n",
       "      <td>...</td>\n",
       "      <td>...</td>\n",
       "      <td>...</td>\n",
       "      <td>...</td>\n",
       "      <td>...</td>\n",
       "      <td>...</td>\n",
       "      <td>...</td>\n",
       "      <td>...</td>\n",
       "      <td>...</td>\n",
       "      <td>...</td>\n",
       "      <td>...</td>\n",
       "      <td>...</td>\n",
       "    </tr>\n",
       "    <tr>\n",
       "      <th>32945</th>\n",
       "      <td>-0.872586</td>\n",
       "      <td>0.196251</td>\n",
       "      <td>-0.350156</td>\n",
       "      <td>0.840022</td>\n",
       "      <td>0.773375</td>\n",
       "      <td>0.844937</td>\n",
       "      <td>0.0</td>\n",
       "      <td>0.0</td>\n",
       "      <td>0.0</td>\n",
       "      <td>0.0</td>\n",
       "      <td>...</td>\n",
       "      <td>0.0</td>\n",
       "      <td>0.0</td>\n",
       "      <td>0.0</td>\n",
       "      <td>0.0</td>\n",
       "      <td>0.0</td>\n",
       "      <td>0.0</td>\n",
       "      <td>1.0</td>\n",
       "      <td>0.0</td>\n",
       "      <td>1.0</td>\n",
       "      <td>0.0</td>\n",
       "    </tr>\n",
       "    <tr>\n",
       "      <th>32946</th>\n",
       "      <td>-0.366237</td>\n",
       "      <td>0.196251</td>\n",
       "      <td>1.662341</td>\n",
       "      <td>-0.114922</td>\n",
       "      <td>0.329502</td>\n",
       "      <td>0.398398</td>\n",
       "      <td>0.0</td>\n",
       "      <td>1.0</td>\n",
       "      <td>0.0</td>\n",
       "      <td>0.0</td>\n",
       "      <td>...</td>\n",
       "      <td>0.0</td>\n",
       "      <td>1.0</td>\n",
       "      <td>0.0</td>\n",
       "      <td>0.0</td>\n",
       "      <td>1.0</td>\n",
       "      <td>0.0</td>\n",
       "      <td>0.0</td>\n",
       "      <td>0.0</td>\n",
       "      <td>0.0</td>\n",
       "      <td>0.0</td>\n",
       "    </tr>\n",
       "    <tr>\n",
       "      <th>32947</th>\n",
       "      <td>-0.515840</td>\n",
       "      <td>0.196251</td>\n",
       "      <td>-0.350156</td>\n",
       "      <td>0.840022</td>\n",
       "      <td>0.777411</td>\n",
       "      <td>0.844937</td>\n",
       "      <td>0.0</td>\n",
       "      <td>0.0</td>\n",
       "      <td>0.0</td>\n",
       "      <td>0.0</td>\n",
       "      <td>...</td>\n",
       "      <td>0.0</td>\n",
       "      <td>0.0</td>\n",
       "      <td>0.0</td>\n",
       "      <td>0.0</td>\n",
       "      <td>0.0</td>\n",
       "      <td>1.0</td>\n",
       "      <td>0.0</td>\n",
       "      <td>0.0</td>\n",
       "      <td>1.0</td>\n",
       "      <td>0.0</td>\n",
       "    </tr>\n",
       "    <tr>\n",
       "      <th>32948</th>\n",
       "      <td>-0.404596</td>\n",
       "      <td>0.196251</td>\n",
       "      <td>-0.350156</td>\n",
       "      <td>0.840022</td>\n",
       "      <td>0.718035</td>\n",
       "      <td>0.844937</td>\n",
       "      <td>1.0</td>\n",
       "      <td>0.0</td>\n",
       "      <td>0.0</td>\n",
       "      <td>0.0</td>\n",
       "      <td>...</td>\n",
       "      <td>0.0</td>\n",
       "      <td>0.0</td>\n",
       "      <td>0.0</td>\n",
       "      <td>0.0</td>\n",
       "      <td>1.0</td>\n",
       "      <td>0.0</td>\n",
       "      <td>0.0</td>\n",
       "      <td>0.0</td>\n",
       "      <td>1.0</td>\n",
       "      <td>0.0</td>\n",
       "    </tr>\n",
       "    <tr>\n",
       "      <th>32949</th>\n",
       "      <td>-0.389252</td>\n",
       "      <td>0.196251</td>\n",
       "      <td>1.662341</td>\n",
       "      <td>-1.197191</td>\n",
       "      <td>-1.276511</td>\n",
       "      <td>-0.938452</td>\n",
       "      <td>0.0</td>\n",
       "      <td>0.0</td>\n",
       "      <td>0.0</td>\n",
       "      <td>0.0</td>\n",
       "      <td>...</td>\n",
       "      <td>0.0</td>\n",
       "      <td>0.0</td>\n",
       "      <td>0.0</td>\n",
       "      <td>0.0</td>\n",
       "      <td>1.0</td>\n",
       "      <td>0.0</td>\n",
       "      <td>0.0</td>\n",
       "      <td>0.0</td>\n",
       "      <td>0.0</td>\n",
       "      <td>0.0</td>\n",
       "    </tr>\n",
       "  </tbody>\n",
       "</table>\n",
       "<p>32950 rows × 49 columns</p>\n",
       "</div>"
      ],
      "text/plain": [
       "             0         1         2         3         4         5    6    7   \\\n",
       "0     -0.113062  0.196251 -0.350156  0.840022  0.774528  0.844937  0.0  0.0   \n",
       "1     -0.765179  0.196251 -0.350156 -1.197191 -1.253452 -0.938452  0.0  0.0   \n",
       "2     -0.439120  0.196251  1.662341 -0.114922  0.231504  0.398398  0.0  0.0   \n",
       "3     -0.611739  0.196251  1.662341 -1.197191 -1.342227 -0.938452  1.0  0.0   \n",
       "4     -0.139914  0.196251  3.674838 -1.897483 -1.579728 -1.255038  0.0  0.0   \n",
       "...         ...       ...       ...       ...       ...       ...  ...  ...   \n",
       "32945 -0.872586  0.196251 -0.350156  0.840022  0.773375  0.844937  0.0  0.0   \n",
       "32946 -0.366237  0.196251  1.662341 -0.114922  0.329502  0.398398  0.0  1.0   \n",
       "32947 -0.515840  0.196251 -0.350156  0.840022  0.777411  0.844937  0.0  0.0   \n",
       "32948 -0.404596  0.196251 -0.350156  0.840022  0.718035  0.844937  1.0  0.0   \n",
       "32949 -0.389252  0.196251  1.662341 -1.197191 -1.276511 -0.938452  0.0  0.0   \n",
       "\n",
       "        8    9   ...   39   40   41   42   43   44   45   46   47   48  \n",
       "0      0.0  0.0  ...  0.0  0.0  0.0  0.0  0.0  0.0  0.0  1.0  1.0  0.0  \n",
       "1      0.0  0.0  ...  0.0  0.0  0.0  0.0  0.0  0.0  0.0  1.0  1.0  0.0  \n",
       "2      1.0  0.0  ...  0.0  1.0  0.0  0.0  0.0  0.0  0.0  0.0  0.0  0.0  \n",
       "3      0.0  0.0  ...  1.0  0.0  0.0  0.0  0.0  0.0  1.0  0.0  0.0  0.0  \n",
       "4      0.0  0.0  ...  0.0  0.0  0.0  0.0  0.0  0.0  0.0  1.0  0.0  0.0  \n",
       "...    ...  ...  ...  ...  ...  ...  ...  ...  ...  ...  ...  ...  ...  \n",
       "32945  0.0  0.0  ...  0.0  0.0  0.0  0.0  0.0  0.0  1.0  0.0  1.0  0.0  \n",
       "32946  0.0  0.0  ...  0.0  1.0  0.0  0.0  1.0  0.0  0.0  0.0  0.0  0.0  \n",
       "32947  0.0  0.0  ...  0.0  0.0  0.0  0.0  0.0  1.0  0.0  0.0  1.0  0.0  \n",
       "32948  0.0  0.0  ...  0.0  0.0  0.0  0.0  1.0  0.0  0.0  0.0  1.0  0.0  \n",
       "32949  0.0  0.0  ...  0.0  0.0  0.0  0.0  1.0  0.0  0.0  0.0  0.0  0.0  \n",
       "\n",
       "[32950 rows x 49 columns]"
      ]
     },
     "execution_count": 70,
     "metadata": {},
     "output_type": "execute_result"
    }
   ],
   "source": [
    "trf = ColumnTransformer(transformers=[\n",
    "    ('number', StandardScaler(), num_col),\n",
    "    ('obj', OneHotEncoder(sparse=False, drop='first'), obj_col)\n",
    "], remainder='passthrough')\n",
    "\n",
    "first_transform = trf.fit_transform(x_train)\n",
    "\n",
    "#melihat hasil dari hasil tranform\n",
    "pd.DataFrame(first_transform)"
   ]
  },
  {
   "cell_type": "markdown",
   "metadata": {},
   "source": [
    "# Pendefinisian Model"
   ]
  },
  {
   "cell_type": "markdown",
   "metadata": {},
   "source": [
    "## Logistic regression"
   ]
  },
  {
   "cell_type": "code",
   "execution_count": 71,
   "metadata": {},
   "outputs": [
    {
     "data": {
      "text/plain": [
       "Pipeline(steps=[('tf',\n",
       "                 ColumnTransformer(remainder='passthrough',\n",
       "                                   transformers=[('number', StandardScaler(),\n",
       "                                                  ['duration', 'pdays',\n",
       "                                                   'previous', 'emp_var_rate',\n",
       "                                                   'euribor3m',\n",
       "                                                   'np_employed']),\n",
       "                                                 ('obj',\n",
       "                                                  OneHotEncoder(drop='first',\n",
       "                                                                sparse=False),\n",
       "                                                  ['job', 'marital',\n",
       "                                                   'education', 'default',\n",
       "                                                   'housing', 'loan', 'contact',\n",
       "                                                   'month', 'day_of_week',\n",
       "                                                   'poutcome'])])),\n",
       "                ('model', LogisticRegression())])"
      ]
     },
     "execution_count": 71,
     "metadata": {},
     "output_type": "execute_result"
    }
   ],
   "source": [
    "pipe_lr = Pipeline(steps=[\n",
    "    ('tf', trf),\n",
    "    ('model', LogisticRegression())\n",
    "])\n",
    "\n",
    "pipe_lr.fit(x_train, y_train)"
   ]
  },
  {
   "cell_type": "markdown",
   "metadata": {},
   "source": [
    "## SVM"
   ]
  },
  {
   "cell_type": "code",
   "execution_count": 72,
   "metadata": {},
   "outputs": [
    {
     "data": {
      "text/plain": [
       "Pipeline(steps=[('tf',\n",
       "                 ColumnTransformer(remainder='passthrough',\n",
       "                                   transformers=[('number', StandardScaler(),\n",
       "                                                  ['duration', 'pdays',\n",
       "                                                   'previous', 'emp_var_rate',\n",
       "                                                   'euribor3m',\n",
       "                                                   'np_employed']),\n",
       "                                                 ('obj',\n",
       "                                                  OneHotEncoder(drop='first',\n",
       "                                                                sparse=False),\n",
       "                                                  ['job', 'marital',\n",
       "                                                   'education', 'default',\n",
       "                                                   'housing', 'loan', 'contact',\n",
       "                                                   'month', 'day_of_week',\n",
       "                                                   'poutcome'])])),\n",
       "                ('SVM', SVC(C=0.5, kernel='linear'))])"
      ]
     },
     "execution_count": 72,
     "metadata": {},
     "output_type": "execute_result"
    }
   ],
   "source": [
    "pipe_svm = Pipeline(steps=[\n",
    "    ('tf', trf),\n",
    "    ('SVM', SVC(kernel='linear', C=0.5))\n",
    "])\n",
    "\n",
    "pipe_svm.fit(x_train, y_train)"
   ]
  },
  {
   "cell_type": "markdown",
   "metadata": {},
   "source": [
    "## Decision Tree"
   ]
  },
  {
   "cell_type": "code",
   "execution_count": 73,
   "metadata": {},
   "outputs": [
    {
     "data": {
      "text/plain": [
       "Pipeline(steps=[('tf',\n",
       "                 ColumnTransformer(remainder='passthrough',\n",
       "                                   transformers=[('number', StandardScaler(),\n",
       "                                                  ['duration', 'pdays',\n",
       "                                                   'previous', 'emp_var_rate',\n",
       "                                                   'euribor3m',\n",
       "                                                   'np_employed']),\n",
       "                                                 ('obj',\n",
       "                                                  OneHotEncoder(drop='first',\n",
       "                                                                sparse=False),\n",
       "                                                  ['job', 'marital',\n",
       "                                                   'education', 'default',\n",
       "                                                   'housing', 'loan', 'contact',\n",
       "                                                   'month', 'day_of_week',\n",
       "                                                   'poutcome'])])),\n",
       "                ('tree', DecisionTreeClassifier(max_depth=10))])"
      ]
     },
     "execution_count": 73,
     "metadata": {},
     "output_type": "execute_result"
    }
   ],
   "source": [
    "pipe_tree = Pipeline(steps=[\n",
    "    ('tf', trf),\n",
    "    ('tree', DecisionTreeClassifier(max_depth=10))\n",
    "])\n",
    "\n",
    "pipe_tree.fit(x_train, y_train)"
   ]
  },
  {
   "cell_type": "markdown",
   "metadata": {},
   "source": [
    "## Random Forest"
   ]
  },
  {
   "cell_type": "code",
   "execution_count": 74,
   "metadata": {},
   "outputs": [
    {
     "data": {
      "text/plain": [
       "Pipeline(steps=[('tf',\n",
       "                 ColumnTransformer(remainder='passthrough',\n",
       "                                   transformers=[('number', StandardScaler(),\n",
       "                                                  ['duration', 'pdays',\n",
       "                                                   'previous', 'emp_var_rate',\n",
       "                                                   'euribor3m',\n",
       "                                                   'np_employed']),\n",
       "                                                 ('obj',\n",
       "                                                  OneHotEncoder(drop='first',\n",
       "                                                                sparse=False),\n",
       "                                                  ['job', 'marital',\n",
       "                                                   'education', 'default',\n",
       "                                                   'housing', 'loan', 'contact',\n",
       "                                                   'month', 'day_of_week',\n",
       "                                                   'poutcome'])])),\n",
       "                ('RandomForest', RandomForestClassifier(max_depth=10))])"
      ]
     },
     "execution_count": 74,
     "metadata": {},
     "output_type": "execute_result"
    }
   ],
   "source": [
    "pipe_rnf = Pipeline(steps=[\n",
    "    ('tf', trf),\n",
    "    ('RandomForest', RandomForestClassifier(n_estimators=100, max_depth=10))\n",
    "])\n",
    "\n",
    "pipe_rnf.fit(x_train, y_train)"
   ]
  },
  {
   "cell_type": "markdown",
   "metadata": {},
   "source": [
    "## K Nearest Neighbors"
   ]
  },
  {
   "cell_type": "code",
   "execution_count": 75,
   "metadata": {},
   "outputs": [
    {
     "data": {
      "text/plain": [
       "Pipeline(steps=[('tf',\n",
       "                 ColumnTransformer(remainder='passthrough',\n",
       "                                   transformers=[('number', StandardScaler(),\n",
       "                                                  ['duration', 'pdays',\n",
       "                                                   'previous', 'emp_var_rate',\n",
       "                                                   'euribor3m',\n",
       "                                                   'np_employed']),\n",
       "                                                 ('obj',\n",
       "                                                  OneHotEncoder(drop='first',\n",
       "                                                                sparse=False),\n",
       "                                                  ['job', 'marital',\n",
       "                                                   'education', 'default',\n",
       "                                                   'housing', 'loan', 'contact',\n",
       "                                                   'month', 'day_of_week',\n",
       "                                                   'poutcome'])])),\n",
       "                ('knn', KNeighborsClassifier())])"
      ]
     },
     "execution_count": 75,
     "metadata": {},
     "output_type": "execute_result"
    }
   ],
   "source": [
    "pipe_knn = Pipeline(steps=[\n",
    "    ('tf', trf),\n",
    "    ('knn', KNeighborsClassifier(n_neighbors=5))\n",
    "])\n",
    "\n",
    "pipe_knn.fit(x_train, y_train)"
   ]
  },
  {
   "cell_type": "markdown",
   "metadata": {},
   "source": [
    "## Naive Bayes"
   ]
  },
  {
   "cell_type": "code",
   "execution_count": 76,
   "metadata": {},
   "outputs": [
    {
     "data": {
      "text/plain": [
       "Pipeline(steps=[('tf',\n",
       "                 ColumnTransformer(remainder='passthrough',\n",
       "                                   transformers=[('number', StandardScaler(),\n",
       "                                                  ['duration', 'pdays',\n",
       "                                                   'previous', 'emp_var_rate',\n",
       "                                                   'euribor3m',\n",
       "                                                   'np_employed']),\n",
       "                                                 ('obj',\n",
       "                                                  OneHotEncoder(drop='first',\n",
       "                                                                sparse=False),\n",
       "                                                  ['job', 'marital',\n",
       "                                                   'education', 'default',\n",
       "                                                   'housing', 'loan', 'contact',\n",
       "                                                   'month', 'day_of_week',\n",
       "                                                   'poutcome'])])),\n",
       "                ('NaiveBernouli', BernoulliNB())])"
      ]
     },
     "execution_count": 76,
     "metadata": {},
     "output_type": "execute_result"
    }
   ],
   "source": [
    "pipe_nbb = Pipeline(steps=[\n",
    "    ('tf', trf),\n",
    "    ('NaiveBernouli', BernoulliNB())\n",
    "])\n",
    "\n",
    "pipe_nbb.fit(x_train, y_train)"
   ]
  },
  {
   "cell_type": "markdown",
   "metadata": {},
   "source": [
    "## Gradient Boosting"
   ]
  },
  {
   "cell_type": "code",
   "execution_count": 77,
   "metadata": {},
   "outputs": [
    {
     "data": {
      "text/plain": [
       "Pipeline(steps=[('tf',\n",
       "                 ColumnTransformer(remainder='passthrough',\n",
       "                                   transformers=[('number', StandardScaler(),\n",
       "                                                  ['duration', 'pdays',\n",
       "                                                   'previous', 'emp_var_rate',\n",
       "                                                   'euribor3m',\n",
       "                                                   'np_employed']),\n",
       "                                                 ('obj',\n",
       "                                                  OneHotEncoder(drop='first',\n",
       "                                                                sparse=False),\n",
       "                                                  ['job', 'marital',\n",
       "                                                   'education', 'default',\n",
       "                                                   'housing', 'loan', 'contact',\n",
       "                                                   'month', 'day_of_week',\n",
       "                                                   'poutcome'])])),\n",
       "                ('GradBoost', GradientBoostingClassifier(max_depth=2))])"
      ]
     },
     "execution_count": 77,
     "metadata": {},
     "output_type": "execute_result"
    }
   ],
   "source": [
    "pipe_grad = Pipeline(steps=[\n",
    "    ('tf', trf),\n",
    "    ('GradBoost', GradientBoostingClassifier(n_estimators=100, max_depth=2))\n",
    "])\n",
    "\n",
    "pipe_grad.fit(x_train, y_train)"
   ]
  },
  {
   "cell_type": "markdown",
   "metadata": {},
   "source": [
    "# Training Model"
   ]
  },
  {
   "cell_type": "markdown",
   "metadata": {},
   "source": [
    "## Pendifinisian nilai prediksi dari model"
   ]
  },
  {
   "cell_type": "code",
   "execution_count": 78,
   "metadata": {},
   "outputs": [
    {
     "name": "stdout",
     "output_type": "stream",
     "text": [
      " score dari model Logistic Regression adalah 91.16 % \n"
     ]
    }
   ],
   "source": [
    "y_lr = pipe_lr.predict(x_test)\n",
    "print(f' score dari model Logistic Regression adalah {round(pipe_lr.score(x_test, y_test)*100 ,2)} % ')"
   ]
  },
  {
   "cell_type": "code",
   "execution_count": 79,
   "metadata": {},
   "outputs": [
    {
     "name": "stdout",
     "output_type": "stream",
     "text": [
      " score dari model SVM Classifier adalah 90.57 % \n"
     ]
    }
   ],
   "source": [
    "y_svm = pipe_svm.predict(x_test)\n",
    "print(f' score dari model SVM Classifier adalah {round(pipe_svm.score(x_test, y_test)*100 ,2)} % ')"
   ]
  },
  {
   "cell_type": "code",
   "execution_count": 80,
   "metadata": {},
   "outputs": [
    {
     "name": "stdout",
     "output_type": "stream",
     "text": [
      " score dari model Decision Tree adalah 91.13 % \n"
     ]
    }
   ],
   "source": [
    "y_tree = pipe_tree.predict(x_test)\n",
    "print(f' score dari model Decision Tree adalah {round(pipe_tree.score(x_test, y_test)*100 ,2)} % ')"
   ]
  },
  {
   "cell_type": "code",
   "execution_count": 81,
   "metadata": {},
   "outputs": [
    {
     "name": "stdout",
     "output_type": "stream",
     "text": [
      " score dari model Random Forest adalah 91.43 % \n"
     ]
    }
   ],
   "source": [
    "y_rnf = pipe_rnf.predict(x_test)\n",
    "print(f' score dari model Random Forest adalah {round(pipe_rnf.score(x_test, y_test)*100 ,2)} % ')"
   ]
  },
  {
   "cell_type": "code",
   "execution_count": 82,
   "metadata": {},
   "outputs": [
    {
     "name": "stdout",
     "output_type": "stream",
     "text": [
      " score dari model KNeighbours Classifier adalah 90.39 % \n"
     ]
    }
   ],
   "source": [
    "y_knn= pipe_knn.predict(x_test)\n",
    "print(f' score dari model KNeighbours Classifier adalah {round(pipe_knn.score(x_test, y_test)*100 ,2)} % ')"
   ]
  },
  {
   "cell_type": "code",
   "execution_count": 83,
   "metadata": {},
   "outputs": [
    {
     "name": "stdout",
     "output_type": "stream",
     "text": [
      " score dari model Naive Bayes Bernouli adalah 83.42 % \n"
     ]
    }
   ],
   "source": [
    "y_nbb= pipe_nbb.predict(x_test)\n",
    "print(f' score dari model Naive Bayes Bernouli adalah {round(pipe_nbb.score(x_test, y_test)*100 ,2)} % ')"
   ]
  },
  {
   "cell_type": "code",
   "execution_count": 84,
   "metadata": {},
   "outputs": [
    {
     "name": "stdout",
     "output_type": "stream",
     "text": [
      " score dari model Gradient Boosting adalah 91.31 % \n"
     ]
    }
   ],
   "source": [
    "y_grad= pipe_grad.predict(x_test)\n",
    "print(f' score dari model Gradient Boosting adalah {round(pipe_grad.score(x_test, y_test)*100 ,2)} % ')"
   ]
  },
  {
   "cell_type": "markdown",
   "metadata": {},
   "source": [
    "# Model Evaluation"
   ]
  },
  {
   "cell_type": "markdown",
   "metadata": {},
   "source": [
    "## logistec regression"
   ]
  },
  {
   "cell_type": "markdown",
   "metadata": {},
   "source": [
    "### Fit Observation"
   ]
  },
  {
   "cell_type": "code",
   "execution_count": 85,
   "metadata": {},
   "outputs": [
    {
     "name": "stdout",
     "output_type": "stream",
     "text": [
      "Training Akurasi 91.04 %\n",
      "Testing Akurasi 91.16 %\n"
     ]
    }
   ],
   "source": [
    "#check overfitt or not\n",
    "\n",
    "print(f'Training Akurasi {round(pipe_lr.score(x_train, y_train)*100,2)} %')\n",
    "print(f'Testing Akurasi {round(pipe_lr.score(x_test, y_test)*100,2)} %')"
   ]
  },
  {
   "cell_type": "markdown",
   "metadata": {},
   "source": [
    "hasil dari nilai training dan testing dari model logistic regression tidak terpaut jauh, yang menandakan model sudah good fit"
   ]
  },
  {
   "cell_type": "markdown",
   "metadata": {},
   "source": [
    "### Confusion Matrix"
   ]
  },
  {
   "cell_type": "code",
   "execution_count": 86,
   "metadata": {},
   "outputs": [
    {
     "name": "stdout",
     "output_type": "stream",
     "text": [
      "Confusion matrix\n",
      "\n",
      " [[7119  191]\n",
      " [ 537  391]]\n",
      "\n",
      "True Positives(TP) =  7119\n",
      "\n",
      "True Negatives(TN) =  391\n",
      "\n",
      "False Positives(FP) =  191\n",
      "\n",
      "False Negatives(FN) =  537\n",
      "\n",
      "All Positives 7510\n",
      "\n",
      "All Positives 728\n"
     ]
    }
   ],
   "source": [
    "cm = confusion_matrix(y_test, y_lr)\n",
    "\n",
    "print('Confusion matrix\\n\\n', cm)\n",
    "\n",
    "print('\\nTrue Positives(TP) = ', cm[0,0])\n",
    "\n",
    "print('\\nTrue Negatives(TN) = ', cm[1,1])\n",
    "\n",
    "print('\\nFalse Positives(FP) = ', cm[0,1])\n",
    "\n",
    "print('\\nFalse Negatives(FN) = ', cm[1,0])\n",
    "\n",
    "print(f'\\nAll Positives {cm[0,0] + cm[1,1]}')\n",
    "\n",
    "print(f'\\nAll Positives {cm[0,1] + cm[1,0]}')"
   ]
  },
  {
   "cell_type": "code",
   "execution_count": 87,
   "metadata": {},
   "outputs": [
    {
     "data": {
      "text/plain": [
       "<AxesSubplot:>"
      ]
     },
     "execution_count": 87,
     "metadata": {},
     "output_type": "execute_result"
    },
    {
     "data": {
      "image/png": "[encoded data removed]",
      "text/plain": [
       "<Figure size 432x288 with 2 Axes>"
      ]
     },
     "metadata": {
      "needs_background": "light"
     },
     "output_type": "display_data"
    }
   ],
   "source": [
    "cm_matrix = pd.DataFrame(data=cm, columns=['Actual Positive:1', 'Actual Negative:0'], \n",
    "                                 index=['Predict Positive:1', 'Predict Negative:0'])\n",
    "\n",
    "sns.heatmap(cm_matrix, annot=True, fmt='d', cmap='YlGnBu')"
   ]
  },
  {
   "cell_type": "markdown",
   "metadata": {},
   "source": [
    "confusion matrix menunjukan bahwa model Logistec Regression **berhasil menebak** benar sebanyak `7510` dan **salah menebak** sebanyakn `728`"
   ]
  },
  {
   "cell_type": "markdown",
   "metadata": {},
   "source": [
    "### Akurasi, Recall, dan Precision"
   ]
  },
  {
   "cell_type": "code",
   "execution_count": 88,
   "metadata": {},
   "outputs": [
    {
     "name": "stdout",
     "output_type": "stream",
     "text": [
      "Akurasi 91.16 %\n",
      "Recall 42.13 %\n",
      "Precision 67.18 %\n"
     ]
    }
   ],
   "source": [
    "#akurasi, recall, dan precision\n",
    "\n",
    "print(f'Akurasi {round(accuracy_score(y_test, y_lr)*100, 2)} %')\n",
    "print(f'Recall {round(metrics.recall_score(y_test, y_lr)*100, 2)} %')\n",
    "print(f'Precision {round(metrics.precision_score(y_test, y_lr)*100, 2)} %')"
   ]
  },
  {
   "cell_type": "markdown",
   "metadata": {},
   "source": [
    "### Cross Validation Akurasi, recall, dan Precision"
   ]
  },
  {
   "cell_type": "code",
   "execution_count": 89,
   "metadata": {},
   "outputs": [
    {
     "name": "stdout",
     "output_type": "stream",
     "text": [
      "Akurasi Score Cross Validation 91.01 %\n",
      "Recall Score Cross Validation 41.71 %\n",
      "Precision Score Cross Validation nan %\n"
     ]
    }
   ],
   "source": [
    "Cross_validated_Akurasi = cross_val_score(pipe_lr, x, y, cv=ms.KFold(n_splits=5, shuffle=True), scoring='accuracy') #akurasi\n",
    "Cross_validated_Recall = cross_val_score(pipe_lr, x, y, cv=ms.KFold(n_splits=5, shuffle=True), scoring='recall') #akurasi\n",
    "Cross_validated_Precision = cross_val_score(pipe_lr, x, y, cv=ms.KFold(n_splits=5, shuffle=True), scoring='precision') #akurasi\n",
    "\n",
    "print(f'Akurasi Score Cross Validation {round(Cross_validated_Akurasi.mean()*100,2)} %')\n",
    "print(f'Recall Score Cross Validation {round(Cross_validated_Recall.mean()*100,2)} %')\n",
    "print(f'Precision Score Cross Validation {round(Cross_validated_Precision.mean()*100,2)} %')\n"
   ]
  },
  {
   "cell_type": "markdown",
   "metadata": {},
   "source": [
    "### ROC AUC"
   ]
  },
  {
   "cell_type": "code",
   "execution_count": 90,
   "metadata": {},
   "outputs": [
    {
     "data": {
      "image/png": "[encoded data removed]",
      "text/plain": [
       "<Figure size 432x288 with 1 Axes>"
      ]
     },
     "metadata": {
      "needs_background": "light"
     },
     "output_type": "display_data"
    },
    {
     "name": "stdout",
     "output_type": "stream",
     "text": [
      "ROC AUC Score : 93.51 %\n"
     ]
    }
   ],
   "source": [
    "logit_roc_auc = roc_auc_score(y, pipe_lr.decision_function(x))\n",
    "fpr, tpr, thresholds = roc_curve(y,pipe_lr.decision_function(x))\n",
    "plt.figure()\n",
    "plt.plot(fpr, tpr, label='Logistic Regression (area = %0.2f)' % logit_roc_auc)\n",
    "plt.plot([0, 1], [0, 1],'r--')\n",
    "plt.xlim([0.0, 1.0])\n",
    "plt.ylim([0.0, 1.05])\n",
    "plt.xlabel('False Positive Rate')\n",
    "plt.ylabel('True Positive Rate')\n",
    "plt.title('Receiver operating characteristic')\n",
    "plt.legend(loc=\"lower right\")\n",
    "plt.savefig('Log_ROC')\n",
    "plt.show()\n",
    "\n",
    "print(f'ROC AUC Score : {round(logit_roc_auc*100,2)} %')\n"
   ]
  },
  {
   "cell_type": "markdown",
   "metadata": {},
   "source": [
    "### Cross validation ROC AUC"
   ]
  },
  {
   "cell_type": "code",
   "execution_count": 91,
   "metadata": {},
   "outputs": [
    {
     "name": "stdout",
     "output_type": "stream",
     "text": [
      "ROC AUC Score Cross Validation 93.31 %\n"
     ]
    }
   ],
   "source": [
    "Cross_validated_ROC_AUC = cross_val_score(pipe_lr, x_train, y_train, cv=5, scoring='roc_auc')\n",
    "\n",
    "print(f'ROC AUC Score Cross Validation {round(Cross_validated_ROC_AUC.mean()*100,2)} %')"
   ]
  },
  {
   "cell_type": "markdown",
   "metadata": {},
   "source": [
    "### Classification Report"
   ]
  },
  {
   "cell_type": "code",
   "execution_count": 92,
   "metadata": {},
   "outputs": [
    {
     "name": "stdout",
     "output_type": "stream",
     "text": [
      "              precision    recall  f1-score   support\n",
      "\n",
      "           0       0.93      0.97      0.95      7310\n",
      "           1       0.67      0.42      0.52       928\n",
      "\n",
      "    accuracy                           0.91      8238\n",
      "   macro avg       0.80      0.70      0.73      8238\n",
      "weighted avg       0.90      0.91      0.90      8238\n",
      "\n"
     ]
    }
   ],
   "source": [
    "report = classification_report(y_test, y_lr)\n",
    "print(report)"
   ]
  },
  {
   "cell_type": "markdown",
   "metadata": {},
   "source": [
    "## SVM"
   ]
  },
  {
   "cell_type": "markdown",
   "metadata": {},
   "source": [
    "### Fit Observation"
   ]
  },
  {
   "cell_type": "code",
   "execution_count": 93,
   "metadata": {},
   "outputs": [
    {
     "name": "stdout",
     "output_type": "stream",
     "text": [
      "Training Akurasi 90.41 %\n",
      "Testing Akurasi 90.57 %\n"
     ]
    }
   ],
   "source": [
    "#check overfitt or not\n",
    "\n",
    "print(f'Training Akurasi {round(pipe_svm.score(x_train, y_train)*100,2)} %')\n",
    "print(f'Testing Akurasi {round(pipe_svm.score(x_test, y_test)*100,2)} %')"
   ]
  },
  {
   "cell_type": "markdown",
   "metadata": {},
   "source": [
    "### Confusion matrix"
   ]
  },
  {
   "cell_type": "code",
   "execution_count": 94,
   "metadata": {},
   "outputs": [
    {
     "name": "stdout",
     "output_type": "stream",
     "text": [
      "Confusion matrix\n",
      "\n",
      " [[7171  139]\n",
      " [ 638  290]]\n",
      "\n",
      "True Positives(TP) =  7171\n",
      "\n",
      "True Negatives(TN) =  290\n",
      "\n",
      "False Positives(FP) =  139\n",
      "\n",
      "False Negatives(FN) =  638\n",
      "\n",
      "All Positives 7461\n",
      "\n",
      "All Positives 777\n"
     ]
    }
   ],
   "source": [
    "cm = confusion_matrix(y_test, y_svm)\n",
    "\n",
    "print('Confusion matrix\\n\\n', cm)\n",
    "\n",
    "print('\\nTrue Positives(TP) = ', cm[0,0])\n",
    "\n",
    "print('\\nTrue Negatives(TN) = ', cm[1,1])\n",
    "\n",
    "print('\\nFalse Positives(FP) = ', cm[0,1])\n",
    "\n",
    "print('\\nFalse Negatives(FN) = ', cm[1,0])\n",
    "\n",
    "print(f'\\nAll Positives {cm[0,0] + cm[1,1]}')\n",
    "\n",
    "print(f'\\nAll Positives {cm[0,1] + cm[1,0]}')"
   ]
  },
  {
   "cell_type": "code",
   "execution_count": 95,
   "metadata": {},
   "outputs": [
    {
     "data": {
      "text/plain": [
       "<AxesSubplot:>"
      ]
     },
     "execution_count": 95,
     "metadata": {},
     "output_type": "execute_result"
    },
    {
     "data": {
      "image/png": "[encoded data removed]",
      "text/plain": [
       "<Figure size 432x288 with 2 Axes>"
      ]
     },
     "metadata": {
      "needs_background": "light"
     },
     "output_type": "display_data"
    }
   ],
   "source": [
    "cm_matrix = pd.DataFrame(data=cm, columns=['Actual Positive:1', 'Actual Negative:0'], \n",
    "                                 index=['Predict Positive:1', 'Predict Negative:0'])\n",
    "\n",
    "sns.heatmap(cm_matrix, annot=True, fmt='d', cmap='YlGnBu')"
   ]
  },
  {
   "cell_type": "markdown",
   "metadata": {},
   "source": [
    "### Akurasi, Recall, dan Precision"
   ]
  },
  {
   "cell_type": "code",
   "execution_count": 96,
   "metadata": {},
   "outputs": [
    {
     "name": "stdout",
     "output_type": "stream",
     "text": [
      "Akurasi 90.57 %\n",
      "Recall 31.25 %\n",
      "Precision 67.6 %\n"
     ]
    }
   ],
   "source": [
    "#akurasi, recall, dan precision\n",
    "\n",
    "print(f'Akurasi {round(accuracy_score(y_test, y_svm)*100, 2)} %')\n",
    "print(f'Recall {round(metrics.recall_score(y_test, y_svm)*100, 2)} %')\n",
    "print(f'Precision {round(metrics.precision_score(y_test, y_svm)*100, 2)} %')"
   ]
  },
  {
   "cell_type": "markdown",
   "metadata": {},
   "source": [
    "### Cross validation Akurasi, Recall, dan Precision"
   ]
  },
  {
   "cell_type": "code",
   "execution_count": 97,
   "metadata": {},
   "outputs": [
    {
     "name": "stdout",
     "output_type": "stream",
     "text": [
      "Akurasi Score Cross Validation 78.92 %\n",
      "Recall Score Cross Validation 32.84 %\n",
      "Precision Score Cross Validation 40.94 %\n"
     ]
    }
   ],
   "source": [
    "Cross_validated_Akurasi = cross_val_score(pipe_svm, x, y, cv=5 , scoring='accuracy') #akurasi\n",
    "Cross_validated_Recall = cross_val_score(pipe_svm, x, y, cv=5, scoring='recall') #akurasi\n",
    "Cross_validated_Precision = cross_val_score(pipe_svm, x, y, cv=5, scoring='precision') #akurasi\n",
    "\n",
    "print(f'Akurasi Score Cross Validation {round(Cross_validated_Akurasi.mean()*100,2)} %')\n",
    "print(f'Recall Score Cross Validation {round(Cross_validated_Recall.mean()*100,2)} %')\n",
    "print(f'Precision Score Cross Validation {round(Cross_validated_Precision.mean()*100,2)} %')\n"
   ]
  },
  {
   "cell_type": "markdown",
   "metadata": {},
   "source": [
    "### ROC AUC"
   ]
  },
  {
   "cell_type": "code",
   "execution_count": 98,
   "metadata": {},
   "outputs": [
    {
     "data": {
      "image/png": "[encoded data removed]",
      "text/plain": [
       "<Figure size 432x288 with 1 Axes>"
      ]
     },
     "metadata": {
      "needs_background": "light"
     },
     "output_type": "display_data"
    },
    {
     "name": "stdout",
     "output_type": "stream",
     "text": [
      "ROC AUC Score : 93.37 %\n"
     ]
    }
   ],
   "source": [
    "roc_auc = roc_auc_score(y, pipe_svm.decision_function(x))\n",
    "fpr, tpr, thresholds = roc_curve(y,pipe_svm.decision_function(x))\n",
    "plt.figure()\n",
    "plt.plot(fpr, tpr, label='Logistic Regression (area = %0.2f)' % roc_auc)\n",
    "plt.plot([0, 1], [0, 1],'r--')\n",
    "plt.xlim([0.0, 1.0])\n",
    "plt.ylim([0.0, 1.05])\n",
    "plt.xlabel('False Positive Rate')\n",
    "plt.ylabel('True Positive Rate')\n",
    "plt.title('Receiver operating characteristic')\n",
    "plt.legend(loc=\"lower right\")\n",
    "plt.savefig('Log_ROC')\n",
    "plt.show()\n",
    "\n",
    "print(f'ROC AUC Score : {round(roc_auc*100,2)} %')\n"
   ]
  },
  {
   "cell_type": "markdown",
   "metadata": {},
   "source": [
    "### Cross Validation ROC AUC"
   ]
  },
  {
   "cell_type": "code",
   "execution_count": 99,
   "metadata": {},
   "outputs": [
    {
     "name": "stdout",
     "output_type": "stream",
     "text": [
      "ROC AUC Score Cross Validation 70.31 %\n"
     ]
    }
   ],
   "source": [
    "Cross_validated_ROC_AUC = cross_val_score(pipe_svm, x, y, cv=5, scoring='roc_auc')\n",
    "\n",
    "print(f'ROC AUC Score Cross Validation {round(Cross_validated_ROC_AUC.mean()*100,2)} %')"
   ]
  },
  {
   "cell_type": "markdown",
   "metadata": {},
   "source": [
    "### Classification report"
   ]
  },
  {
   "cell_type": "code",
   "execution_count": 100,
   "metadata": {},
   "outputs": [
    {
     "name": "stdout",
     "output_type": "stream",
     "text": [
      "              precision    recall  f1-score   support\n",
      "\n",
      "           0       0.92      0.98      0.95      7310\n",
      "           1       0.68      0.31      0.43       928\n",
      "\n",
      "    accuracy                           0.91      8238\n",
      "   macro avg       0.80      0.65      0.69      8238\n",
      "weighted avg       0.89      0.91      0.89      8238\n",
      "\n"
     ]
    }
   ],
   "source": [
    "report = classification_report(y_test, y_svm)\n",
    "print(report)"
   ]
  },
  {
   "cell_type": "markdown",
   "metadata": {},
   "source": [
    "## Decision Tree"
   ]
  },
  {
   "cell_type": "markdown",
   "metadata": {},
   "source": [
    "### Fit Observation"
   ]
  },
  {
   "cell_type": "code",
   "execution_count": 101,
   "metadata": {},
   "outputs": [
    {
     "name": "stdout",
     "output_type": "stream",
     "text": [
      "Training Akurasi 93.56 %\n",
      "Testing Akurasi 91.13 %\n"
     ]
    }
   ],
   "source": [
    "#check overfitt or not\n",
    "\n",
    "print(f'Training Akurasi {round(pipe_tree.score(x_train, y_train)*100,2)} %')\n",
    "print(f'Testing Akurasi {round(pipe_tree.score(x_test, y_test)*100,2)} %')"
   ]
  },
  {
   "cell_type": "markdown",
   "metadata": {},
   "source": [
    "### Confusion matrix"
   ]
  },
  {
   "cell_type": "code",
   "execution_count": 102,
   "metadata": {},
   "outputs": [
    {
     "name": "stdout",
     "output_type": "stream",
     "text": [
      "Confusion matrix\n",
      "\n",
      " [[7004  306]\n",
      " [ 425  503]]\n",
      "\n",
      "True Positives(TP) =  7004\n",
      "\n",
      "True Negatives(TN) =  503\n",
      "\n",
      "False Positives(FP) =  306\n",
      "\n",
      "False Negatives(FN) =  425\n",
      "\n",
      "All Positives 7507\n",
      "\n",
      "All Positives 731\n"
     ]
    }
   ],
   "source": [
    "cm = confusion_matrix(y_test, y_tree)\n",
    "\n",
    "print('Confusion matrix\\n\\n', cm)\n",
    "\n",
    "print('\\nTrue Positives(TP) = ', cm[0,0])\n",
    "\n",
    "print('\\nTrue Negatives(TN) = ', cm[1,1])\n",
    "\n",
    "print('\\nFalse Positives(FP) = ', cm[0,1])\n",
    "\n",
    "print('\\nFalse Negatives(FN) = ', cm[1,0])\n",
    "\n",
    "print(f'\\nAll Positives {cm[0,0] + cm[1,1]}')\n",
    "\n",
    "print(f'\\nAll Positives {cm[0,1] + cm[1,0]}')"
   ]
  },
  {
   "cell_type": "code",
   "execution_count": 103,
   "metadata": {},
   "outputs": [
    {
     "data": {
      "text/plain": [
       "<AxesSubplot:>"
      ]
     },
     "execution_count": 103,
     "metadata": {},
     "output_type": "execute_result"
    },
    {
     "data": {
      "image/png": "[encoded data removed]",
      "text/plain": [
       "<Figure size 432x288 with 2 Axes>"
      ]
     },
     "metadata": {
      "needs_background": "light"
     },
     "output_type": "display_data"
    }
   ],
   "source": [
    "cm_matrix = pd.DataFrame(data=cm, columns=['Actual Positive:1', 'Actual Negative:0'], \n",
    "                                 index=['Predict Positive:1', 'Predict Negative:0'])\n",
    "\n",
    "sns.heatmap(cm_matrix, annot=True, fmt='d', cmap='YlGnBu')"
   ]
  },
  {
   "cell_type": "markdown",
   "metadata": {},
   "source": [
    "### Akurasi, Recall, Precision"
   ]
  },
  {
   "cell_type": "code",
   "execution_count": 104,
   "metadata": {},
   "outputs": [
    {
     "name": "stdout",
     "output_type": "stream",
     "text": [
      "Akurasi 91.13 %\n",
      "Recall 54.2 %\n",
      "Precision 62.18 %\n"
     ]
    }
   ],
   "source": [
    "#akurasi, recall, dan precision\n",
    "\n",
    "print(f'Akurasi {round(accuracy_score(y_test, y_tree)*100, 2)} %')\n",
    "print(f'Recall {round(metrics.recall_score(y_test, y_tree)*100, 2)} %')\n",
    "print(f'Precision {round(metrics.precision_score(y_test, y_tree)*100, 2)} %')"
   ]
  },
  {
   "cell_type": "markdown",
   "metadata": {},
   "source": [
    "### Cross Validation Akurasi, Recall, Precision"
   ]
  },
  {
   "cell_type": "code",
   "execution_count": 105,
   "metadata": {},
   "outputs": [
    {
     "name": "stdout",
     "output_type": "stream",
     "text": [
      "Akurasi Score Cross Validation 90.77 %\n",
      "Recall Score Cross Validation 53.55 %\n",
      "Precision Score Cross Validation 61.11 %\n"
     ]
    }
   ],
   "source": [
    "Cross_validated_Akurasi = cross_val_score(pipe_tree, x, y, cv=ms.KFold(n_splits=5, shuffle=True), scoring='accuracy') #akurasi\n",
    "Cross_validated_Recall = cross_val_score(pipe_tree, x, y, cv=ms.KFold(n_splits=5, shuffle=True), scoring='recall') #akurasi\n",
    "Cross_validated_Precision = cross_val_score(pipe_tree, x, y, cv=ms.KFold(n_splits=5, shuffle=True), scoring='precision') #akurasi\n",
    "\n",
    "print(f'Akurasi Score Cross Validation {round(Cross_validated_Akurasi.mean()*100,2)} %')\n",
    "print(f'Recall Score Cross Validation {round(Cross_validated_Recall.mean()*100,2)} %')\n",
    "print(f'Precision Score Cross Validation {round(Cross_validated_Precision.mean()*100,2)} %')\n"
   ]
  },
  {
   "cell_type": "markdown",
   "metadata": {},
   "source": [
    "### ROC AUC"
   ]
  },
  {
   "cell_type": "code",
   "execution_count": 106,
   "metadata": {},
   "outputs": [
    {
     "data": {
      "image/png": "[encoded data removed]",
      "text/plain": [
       "<Figure size 432x288 with 1 Axes>"
      ]
     },
     "metadata": {
      "needs_background": "light"
     },
     "output_type": "display_data"
    },
    {
     "name": "stdout",
     "output_type": "stream",
     "text": [
      "ROC AUC Score : 95.35 %\n"
     ]
    }
   ],
   "source": [
    "roc_auc = roc_auc_score(y, pipe_tree.predict_proba(x)[:, 1])\n",
    "fpr, tpr, thresholds = roc_curve(y, pipe_tree.predict_proba(x)[:, 1])\n",
    "plt.figure()\n",
    "plt.plot(fpr, tpr, label='Logistic Regression (area = %0.2f)' % roc_auc)\n",
    "plt.plot([0, 1], [0, 1],'r--')\n",
    "plt.xlim([0.0, 1.0])\n",
    "plt.ylim([0.0, 1.05])\n",
    "plt.xlabel('False Positive Rate')\n",
    "plt.ylabel('True Positive Rate')\n",
    "plt.title('Receiver operating characteristic')\n",
    "plt.legend(loc=\"lower right\")\n",
    "plt.savefig('Log_ROC')\n",
    "plt.show()\n",
    "\n",
    "print(f'ROC AUC Score : {round(roc_auc*100,2)} %')\n"
   ]
  },
  {
   "cell_type": "markdown",
   "metadata": {},
   "source": [
    "### Cross Validation ROC AUC"
   ]
  },
  {
   "cell_type": "code",
   "execution_count": 107,
   "metadata": {},
   "outputs": [
    {
     "name": "stdout",
     "output_type": "stream",
     "text": [
      "ROC AUC Score Cross Validation 89.54 %\n"
     ]
    }
   ],
   "source": [
    "Cross_validated_ROC_AUC = cross_val_score(pipe_tree, x, y, cv=ms.KFold(n_splits=5, shuffle=True), scoring='roc_auc')\n",
    "\n",
    "print(f'ROC AUC Score Cross Validation {round(Cross_validated_ROC_AUC.mean()*100,2)} %')"
   ]
  },
  {
   "cell_type": "markdown",
   "metadata": {},
   "source": [
    "### Classification Report"
   ]
  },
  {
   "cell_type": "code",
   "execution_count": 108,
   "metadata": {},
   "outputs": [
    {
     "name": "stdout",
     "output_type": "stream",
     "text": [
      "              precision    recall  f1-score   support\n",
      "\n",
      "           0       0.94      0.96      0.95      7310\n",
      "           1       0.62      0.54      0.58       928\n",
      "\n",
      "    accuracy                           0.91      8238\n",
      "   macro avg       0.78      0.75      0.76      8238\n",
      "weighted avg       0.91      0.91      0.91      8238\n",
      "\n"
     ]
    }
   ],
   "source": [
    "report = classification_report(y_test, y_tree)\n",
    "print(report)"
   ]
  },
  {
   "cell_type": "markdown",
   "metadata": {},
   "source": [
    "## RandomForest"
   ]
  },
  {
   "cell_type": "markdown",
   "metadata": {},
   "source": [
    "### Fit Observation"
   ]
  },
  {
   "cell_type": "code",
   "execution_count": 109,
   "metadata": {},
   "outputs": [
    {
     "name": "stdout",
     "output_type": "stream",
     "text": [
      "Training Akurasi 92.8 %\n",
      "Testing Akurasi 91.43 %\n"
     ]
    }
   ],
   "source": [
    "#check overfitt or not\n",
    "\n",
    "print(f'Training Akurasi {round(pipe_rnf.score(x_train, y_train)*100,2)} %')\n",
    "print(f'Testing Akurasi {round(pipe_rnf.score(x_test, y_test)*100,2)} %')"
   ]
  },
  {
   "cell_type": "markdown",
   "metadata": {},
   "source": [
    "### Confusion Matrix"
   ]
  },
  {
   "cell_type": "code",
   "execution_count": 110,
   "metadata": {},
   "outputs": [
    {
     "name": "stdout",
     "output_type": "stream",
     "text": [
      "Confusion matrix\n",
      "\n",
      " [[7205  105]\n",
      " [ 601  327]]\n",
      "\n",
      "True Positives(TP) =  7205\n",
      "\n",
      "True Negatives(TN) =  327\n",
      "\n",
      "False Positives(FP) =  105\n",
      "\n",
      "False Negatives(FN) =  601\n",
      "\n",
      "All Positives 7532\n",
      "\n",
      "All Positives 706\n"
     ]
    }
   ],
   "source": [
    "cm = confusion_matrix(y_test, y_rnf)\n",
    "\n",
    "print('Confusion matrix\\n\\n', cm)\n",
    "\n",
    "print('\\nTrue Positives(TP) = ', cm[0,0])\n",
    "\n",
    "print('\\nTrue Negatives(TN) = ', cm[1,1])\n",
    "\n",
    "print('\\nFalse Positives(FP) = ', cm[0,1])\n",
    "\n",
    "print('\\nFalse Negatives(FN) = ', cm[1,0])\n",
    "\n",
    "print(f'\\nAll Positives {cm[0,0] + cm[1,1]}')\n",
    "\n",
    "print(f'\\nAll Positives {cm[0,1] + cm[1,0]}')"
   ]
  },
  {
   "cell_type": "markdown",
   "metadata": {},
   "source": [
    "### Akurasi, Recall, Precision"
   ]
  },
  {
   "cell_type": "code",
   "execution_count": 111,
   "metadata": {},
   "outputs": [
    {
     "name": "stdout",
     "output_type": "stream",
     "text": [
      "Akurasi 91.43 %\n",
      "Recall 35.24 %\n",
      "Precision 75.69 %\n"
     ]
    }
   ],
   "source": [
    "#akurasi, recall, dan precision\n",
    "\n",
    "print(f'Akurasi {round(accuracy_score(y_test, y_rnf)*100, 2)} %')\n",
    "print(f'Recall {round(metrics.recall_score(y_test, y_rnf)*100, 2)} %')\n",
    "print(f'Precision {round(metrics.precision_score(y_test, y_rnf)*100, 2)} %')"
   ]
  },
  {
   "cell_type": "markdown",
   "metadata": {},
   "source": [
    "### Cross Validaition Akurasi, Recall, Precision"
   ]
  },
  {
   "cell_type": "code",
   "execution_count": 112,
   "metadata": {},
   "outputs": [
    {
     "name": "stdout",
     "output_type": "stream",
     "text": [
      "Akurasi Score Cross Validation 91.07 %\n",
      "Recall Score Cross Validation 31.57 %\n",
      "Precision Score Cross Validation 73.43 %\n"
     ]
    }
   ],
   "source": [
    "Cross_validated_Akurasi = cross_val_score(pipe_rnf, x, y, cv=ms.KFold(n_splits=5, shuffle=True), scoring='accuracy') #akurasi\n",
    "Cross_validated_Recall = cross_val_score(pipe_rnf, x, y, cv=ms.KFold(n_splits=5, shuffle=True), scoring='recall') #akurasi\n",
    "Cross_validated_Precision = cross_val_score(pipe_rnf, x, y, cv=ms.KFold(n_splits=5, shuffle=True), scoring='precision') #akurasi\n",
    "\n",
    "print(f'Akurasi Score Cross Validation {round(Cross_validated_Akurasi.mean()*100,2)} %')\n",
    "print(f'Recall Score Cross Validation {round(Cross_validated_Recall.mean()*100,2)} %')\n",
    "print(f'Precision Score Cross Validation {round(Cross_validated_Precision.mean()*100,2)} %')\n"
   ]
  },
  {
   "cell_type": "markdown",
   "metadata": {},
   "source": [
    "### ROC AUC"
   ]
  },
  {
   "cell_type": "code",
   "execution_count": 113,
   "metadata": {},
   "outputs": [
    {
     "data": {
      "image/png": "[encoded data removed]",
      "text/plain": [
       "<Figure size 432x288 with 1 Axes>"
      ]
     },
     "metadata": {
      "needs_background": "light"
     },
     "output_type": "display_data"
    },
    {
     "name": "stdout",
     "output_type": "stream",
     "text": [
      "ROC AUC Score : 95.73 %\n"
     ]
    }
   ],
   "source": [
    "roc_auc = roc_auc_score(y, pipe_rnf.predict_proba(x)[:,1])\n",
    "fpr, tpr, thresholds = roc_curve(y, pipe_rnf.predict_proba(x)[:,1])\n",
    "plt.figure()\n",
    "plt.plot(fpr, tpr, label='Logistic Regression (area = %0.2f)' % roc_auc)\n",
    "plt.plot([0, 1], [0, 1],'r--')\n",
    "plt.xlim([0.0, 1.0])\n",
    "plt.ylim([0.0, 1.05])\n",
    "plt.xlabel('False Positive Rate')\n",
    "plt.ylabel('True Positive Rate')\n",
    "plt.title('Receiver operating characteristic')\n",
    "plt.legend(loc=\"lower right\")\n",
    "plt.savefig('Log_ROC')\n",
    "plt.show()\n",
    "\n",
    "print(f'ROC AUC Score : {round(roc_auc*100,2)} %')\n"
   ]
  },
  {
   "cell_type": "markdown",
   "metadata": {},
   "source": [
    "### Cross Validaition ROC AUC"
   ]
  },
  {
   "cell_type": "code",
   "execution_count": 114,
   "metadata": {},
   "outputs": [
    {
     "name": "stdout",
     "output_type": "stream",
     "text": [
      "ROC AUC Score Cross Validation nan %\n"
     ]
    }
   ],
   "source": [
    "Cross_validated_ROC_AUC = cross_val_score(pipe_rnf, x, y, cv=ms.KFold(n_splits=5, shuffle=True), scoring='roc_auc')\n",
    "\n",
    "print(f'ROC AUC Score Cross Validation {round(Cross_validated_ROC_AUC.mean()*100,2)} %')"
   ]
  },
  {
   "cell_type": "markdown",
   "metadata": {},
   "source": [
    "### Classification Report"
   ]
  },
  {
   "cell_type": "code",
   "execution_count": 115,
   "metadata": {},
   "outputs": [
    {
     "name": "stdout",
     "output_type": "stream",
     "text": [
      "              precision    recall  f1-score   support\n",
      "\n",
      "           0       0.92      0.99      0.95      7310\n",
      "           1       0.76      0.35      0.48       928\n",
      "\n",
      "    accuracy                           0.91      8238\n",
      "   macro avg       0.84      0.67      0.72      8238\n",
      "weighted avg       0.90      0.91      0.90      8238\n",
      "\n"
     ]
    }
   ],
   "source": [
    "report = classification_report(y_test, y_rnf)\n",
    "print(report)"
   ]
  },
  {
   "cell_type": "markdown",
   "metadata": {},
   "source": [
    "## K Neighbours"
   ]
  },
  {
   "cell_type": "markdown",
   "metadata": {},
   "source": [
    "### Fit Observation"
   ]
  },
  {
   "cell_type": "code",
   "execution_count": 116,
   "metadata": {},
   "outputs": [
    {
     "name": "stdout",
     "output_type": "stream",
     "text": [
      "Training Akurasi 92.97 %\n",
      "Testing Akurasi 90.39 %\n"
     ]
    }
   ],
   "source": [
    "#check overfitt or not\n",
    "\n",
    "print(f'Training Akurasi {round(pipe_knn.score(x_train, y_train)*100,2)} %')\n",
    "print(f'Testing Akurasi {round(pipe_knn.score(x_test, y_test)*100,2)} %')"
   ]
  },
  {
   "cell_type": "markdown",
   "metadata": {},
   "source": [
    "### Confusion Matrix"
   ]
  },
  {
   "cell_type": "code",
   "execution_count": 117,
   "metadata": {},
   "outputs": [
    {
     "name": "stdout",
     "output_type": "stream",
     "text": [
      "Confusion matrix\n",
      "\n",
      " [[7033  277]\n",
      " [ 515  413]]\n",
      "\n",
      "True Positives(TP) =  7033\n",
      "\n",
      "True Negatives(TN) =  413\n",
      "\n",
      "False Positives(FP) =  277\n",
      "\n",
      "False Negatives(FN) =  515\n",
      "\n",
      "All Positives 7446\n",
      "\n",
      "All Positives 792\n"
     ]
    }
   ],
   "source": [
    "cm = confusion_matrix(y_test, y_knn)\n",
    "\n",
    "print('Confusion matrix\\n\\n', cm)\n",
    "\n",
    "print('\\nTrue Positives(TP) = ', cm[0,0])\n",
    "\n",
    "print('\\nTrue Negatives(TN) = ', cm[1,1])\n",
    "\n",
    "print('\\nFalse Positives(FP) = ', cm[0,1])\n",
    "\n",
    "print('\\nFalse Negatives(FN) = ', cm[1,0])\n",
    "\n",
    "print(f'\\nAll Positives {cm[0,0] + cm[1,1]}')\n",
    "\n",
    "print(f'\\nAll Positives {cm[0,1] + cm[1,0]}')"
   ]
  },
  {
   "cell_type": "markdown",
   "metadata": {},
   "source": [
    "### Akurasi, Recall, Precision"
   ]
  },
  {
   "cell_type": "code",
   "execution_count": 118,
   "metadata": {},
   "outputs": [
    {
     "name": "stdout",
     "output_type": "stream",
     "text": [
      "Akurasi 90.39 %\n",
      "Recall 44.5 %\n",
      "Precision 59.86 %\n"
     ]
    }
   ],
   "source": [
    "#akurasi, recall, dan precision\n",
    "\n",
    "print(f'Akurasi {round(accuracy_score(y_test, y_knn)*100, 2)} %')\n",
    "print(f'Recall {round(metrics.recall_score(y_test, y_knn)*100, 2)} %')\n",
    "print(f'Precision {round(metrics.precision_score(y_test, y_knn)*100, 2)} %')"
   ]
  },
  {
   "cell_type": "markdown",
   "metadata": {},
   "source": [
    "### Cross Validaition Akurasi, Recall, Precision"
   ]
  },
  {
   "cell_type": "code",
   "execution_count": 119,
   "metadata": {},
   "outputs": [
    {
     "name": "stdout",
     "output_type": "stream",
     "text": [
      "Akurasi Score Cross Validation 90.2 %\n",
      "Recall Score Cross Validation 43.46 %\n",
      "Precision Score Cross Validation 59.14 %\n"
     ]
    }
   ],
   "source": [
    "Cross_validated_Akurasi = cross_val_score(pipe_knn, x, y, cv=ms.KFold(n_splits=5, shuffle=True), scoring='accuracy') #akurasi\n",
    "Cross_validated_Recall = cross_val_score(pipe_knn, x, y, cv=ms.KFold(n_splits=5, shuffle=True), scoring='recall') #akurasi\n",
    "Cross_validated_Precision = cross_val_score(pipe_knn, x, y, cv=ms.KFold(n_splits=5, shuffle=True), scoring='precision') #akurasi\n",
    "\n",
    "print(f'Akurasi Score Cross Validation {round(Cross_validated_Akurasi.mean()*100,2)} %')\n",
    "print(f'Recall Score Cross Validation {round(Cross_validated_Recall.mean()*100,2)} %')\n",
    "print(f'Precision Score Cross Validation {round(Cross_validated_Precision.mean()*100,2)} %')\n"
   ]
  },
  {
   "cell_type": "markdown",
   "metadata": {},
   "source": [
    "### ROC AUC"
   ]
  },
  {
   "cell_type": "code",
   "execution_count": 120,
   "metadata": {},
   "outputs": [
    {
     "data": {
      "image/png": "[encoded data removed]",
      "text/plain": [
       "<Figure size 432x288 with 1 Axes>"
      ]
     },
     "metadata": {
      "needs_background": "light"
     },
     "output_type": "display_data"
    },
    {
     "name": "stdout",
     "output_type": "stream",
     "text": [
      "ROC AUC Score : 94.51 %\n"
     ]
    }
   ],
   "source": [
    "roc_auc = roc_auc_score(y, pipe_knn.predict_proba(x)[:, 1])\n",
    "fpr, tpr, thresholds = roc_curve(y, pipe_knn.predict_proba(x)[:, 1])\n",
    "plt.figure()\n",
    "plt.plot(fpr, tpr, label='Logistic Regression (area = %0.2f)' % roc_auc)\n",
    "plt.plot([0, 1], [0, 1],'r--')\n",
    "plt.xlim([0.0, 1.0])\n",
    "plt.ylim([0.0, 1.05])\n",
    "plt.xlabel('False Positive Rate')\n",
    "plt.ylabel('True Positive Rate')\n",
    "plt.title('Receiver operating characteristic')\n",
    "plt.legend(loc=\"lower right\")\n",
    "plt.savefig('Log_ROC')\n",
    "plt.show()\n",
    "\n",
    "print(f'ROC AUC Score : {round(roc_auc*100,2)} %')\n"
   ]
  },
  {
   "cell_type": "markdown",
   "metadata": {},
   "source": [
    "### Cross Validaition ROC AUC"
   ]
  },
  {
   "cell_type": "code",
   "execution_count": 121,
   "metadata": {},
   "outputs": [
    {
     "name": "stdout",
     "output_type": "stream",
     "text": [
      "ROC AUC Score Cross Validation 86.53 %\n"
     ]
    }
   ],
   "source": [
    "Cross_validated_ROC_AUC = cross_val_score(pipe_knn, x, y, cv=ms.KFold(n_splits=5, shuffle=True), scoring='roc_auc')\n",
    "\n",
    "print(f'ROC AUC Score Cross Validation {round(Cross_validated_ROC_AUC.mean()*100,2)} %')"
   ]
  },
  {
   "cell_type": "markdown",
   "metadata": {},
   "source": [
    "### Classification Report"
   ]
  },
  {
   "cell_type": "code",
   "execution_count": 122,
   "metadata": {},
   "outputs": [
    {
     "name": "stdout",
     "output_type": "stream",
     "text": [
      "              precision    recall  f1-score   support\n",
      "\n",
      "           0       0.93      0.96      0.95      7310\n",
      "           1       0.60      0.45      0.51       928\n",
      "\n",
      "    accuracy                           0.90      8238\n",
      "   macro avg       0.77      0.70      0.73      8238\n",
      "weighted avg       0.89      0.90      0.90      8238\n",
      "\n"
     ]
    }
   ],
   "source": [
    "report = classification_report(y_test, y_knn)\n",
    "print(report)"
   ]
  },
  {
   "cell_type": "markdown",
   "metadata": {},
   "source": [
    "## Naive Bayes"
   ]
  },
  {
   "cell_type": "markdown",
   "metadata": {},
   "source": [
    "### Fit Observation"
   ]
  },
  {
   "cell_type": "code",
   "execution_count": 123,
   "metadata": {},
   "outputs": [
    {
     "name": "stdout",
     "output_type": "stream",
     "text": [
      "Training Akurasi 83.59 %\n",
      "Testing Akurasi 83.42 %\n"
     ]
    }
   ],
   "source": [
    "#check overfitt or not\n",
    "\n",
    "print(f'Training Akurasi {round(pipe_nbb.score(x_train, y_train)*100,2)} %')\n",
    "print(f'Testing Akurasi {round(pipe_nbb.score(x_test, y_test)*100,2)} %')"
   ]
  },
  {
   "cell_type": "markdown",
   "metadata": {},
   "source": [
    "### Confusion Matrix"
   ]
  },
  {
   "cell_type": "code",
   "execution_count": 124,
   "metadata": {},
   "outputs": [
    {
     "name": "stdout",
     "output_type": "stream",
     "text": [
      "Confusion matrix\n",
      "\n",
      " [[6333  977]\n",
      " [ 389  539]]\n",
      "\n",
      "True Positives(TP) =  6333\n",
      "\n",
      "True Negatives(TN) =  539\n",
      "\n",
      "False Positives(FP) =  977\n",
      "\n",
      "False Negatives(FN) =  389\n",
      "\n",
      "All Positives 6872\n",
      "\n",
      "All Positives 1366\n"
     ]
    }
   ],
   "source": [
    "cm = confusion_matrix(y_test, y_nbb)\n",
    "\n",
    "print('Confusion matrix\\n\\n', cm)\n",
    "\n",
    "print('\\nTrue Positives(TP) = ', cm[0,0])\n",
    "\n",
    "print('\\nTrue Negatives(TN) = ', cm[1,1])\n",
    "\n",
    "print('\\nFalse Positives(FP) = ', cm[0,1])\n",
    "\n",
    "print('\\nFalse Negatives(FN) = ', cm[1,0])\n",
    "\n",
    "print(f'\\nAll Positives {cm[0,0] + cm[1,1]}')\n",
    "\n",
    "print(f'\\nAll Positives {cm[0,1] + cm[1,0]}')"
   ]
  },
  {
   "cell_type": "markdown",
   "metadata": {},
   "source": [
    "### Akurasi, Recall, Precision"
   ]
  },
  {
   "cell_type": "code",
   "execution_count": 125,
   "metadata": {},
   "outputs": [
    {
     "name": "stdout",
     "output_type": "stream",
     "text": [
      "Akurasi 83.42 %\n",
      "Recall 58.08 %\n",
      "Precision 35.55 %\n"
     ]
    }
   ],
   "source": [
    "#akurasi, recall, dan precision\n",
    "\n",
    "print(f'Akurasi {round(accuracy_score(y_test, y_nbb)*100, 2)} %')\n",
    "print(f'Recall {round(metrics.recall_score(y_test, y_nbb)*100, 2)} %')\n",
    "print(f'Precision {round(metrics.precision_score(y_test, y_nbb)*100, 2)} %')"
   ]
  },
  {
   "cell_type": "markdown",
   "metadata": {},
   "source": [
    "### Cross Validaition Akurasi, Recall, Precision"
   ]
  },
  {
   "cell_type": "code",
   "execution_count": 126,
   "metadata": {},
   "outputs": [
    {
     "name": "stdout",
     "output_type": "stream",
     "text": [
      "Akurasi Score Cross Validation 83.46 %\n",
      "Recall Score Cross Validation 58.86 %\n",
      "Precision Score Cross Validation 35.69 %\n"
     ]
    }
   ],
   "source": [
    "Cross_validated_Akurasi = cross_val_score(pipe_nbb, x, y, cv=ms.KFold(n_splits=5, shuffle=True), scoring='accuracy') #akurasi\n",
    "Cross_validated_Recall = cross_val_score(pipe_nbb, x, y, cv=ms.KFold(n_splits=5, shuffle=True), scoring='recall') #akurasi\n",
    "Cross_validated_Precision = cross_val_score(pipe_nbb, x, y, cv=ms.KFold(n_splits=5, shuffle=True), scoring='precision') #akurasi\n",
    "\n",
    "print(f'Akurasi Score Cross Validation {round(Cross_validated_Akurasi.mean()*100,2)} %')\n",
    "print(f'Recall Score Cross Validation {round(Cross_validated_Recall.mean()*100,2)} %')\n",
    "print(f'Precision Score Cross Validation {round(Cross_validated_Precision.mean()*100,2)} %')\n"
   ]
  },
  {
   "cell_type": "markdown",
   "metadata": {},
   "source": [
    "### ROC AUC"
   ]
  },
  {
   "cell_type": "code",
   "execution_count": 127,
   "metadata": {},
   "outputs": [
    {
     "data": {
      "image/png": "[encoded data removed]",
      "text/plain": [
       "<Figure size 432x288 with 1 Axes>"
      ]
     },
     "metadata": {
      "needs_background": "light"
     },
     "output_type": "display_data"
    },
    {
     "name": "stdout",
     "output_type": "stream",
     "text": [
      "ROC AUC Score : 82.71 %\n"
     ]
    }
   ],
   "source": [
    "roc_auc = roc_auc_score(y, pipe_nbb.predict_proba(x)[:, 1])\n",
    "fpr, tpr, thresholds = roc_curve(y, pipe_nbb.predict_proba(x)[:, 1])\n",
    "plt.figure()\n",
    "plt.plot(fpr, tpr, label='Logistic Regression (area = %0.2f)' % roc_auc)\n",
    "plt.plot([0, 1], [0, 1],'r--')\n",
    "plt.xlim([0.0, 1.0])\n",
    "plt.ylim([0.0, 1.05])\n",
    "plt.xlabel('False Positive Rate')\n",
    "plt.ylabel('True Positive Rate')\n",
    "plt.title('Receiver operating characteristic')\n",
    "plt.legend(loc=\"lower right\")\n",
    "plt.savefig('Log_ROC')\n",
    "plt.show()\n",
    "\n",
    "print(f'ROC AUC Score : {round(roc_auc*100,2)} %')\n"
   ]
  },
  {
   "cell_type": "markdown",
   "metadata": {},
   "source": [
    "### Cross Validaition ROC AUC"
   ]
  },
  {
   "cell_type": "code",
   "execution_count": 128,
   "metadata": {},
   "outputs": [
    {
     "name": "stdout",
     "output_type": "stream",
     "text": [
      "ROC AUC Score Cross Validation 82.62 %\n"
     ]
    }
   ],
   "source": [
    "Cross_validated_ROC_AUC = cross_val_score(pipe_nbb, x, y, cv=ms.KFold(n_splits=5, shuffle=True), scoring='roc_auc')\n",
    "\n",
    "print(f'ROC AUC Score Cross Validation {round(Cross_validated_ROC_AUC.mean()*100,2)} %')"
   ]
  },
  {
   "cell_type": "markdown",
   "metadata": {},
   "source": [
    "### Classification Report"
   ]
  },
  {
   "cell_type": "code",
   "execution_count": 129,
   "metadata": {},
   "outputs": [
    {
     "name": "stdout",
     "output_type": "stream",
     "text": [
      "              precision    recall  f1-score   support\n",
      "\n",
      "           0       0.94      0.87      0.90      7310\n",
      "           1       0.36      0.58      0.44       928\n",
      "\n",
      "    accuracy                           0.83      8238\n",
      "   macro avg       0.65      0.72      0.67      8238\n",
      "weighted avg       0.88      0.83      0.85      8238\n",
      "\n"
     ]
    }
   ],
   "source": [
    "report = classification_report(y_test, y_nbb)\n",
    "print(report)"
   ]
  },
  {
   "cell_type": "markdown",
   "metadata": {},
   "source": [
    "## Gradient Boosting"
   ]
  },
  {
   "cell_type": "markdown",
   "metadata": {},
   "source": [
    "### Fit Observation"
   ]
  },
  {
   "cell_type": "code",
   "execution_count": 130,
   "metadata": {},
   "outputs": [
    {
     "name": "stdout",
     "output_type": "stream",
     "text": [
      "Training Akurasi 91.54 %\n",
      "Testing Akurasi 91.31 %\n"
     ]
    }
   ],
   "source": [
    "#check overfitt or not\n",
    "\n",
    "print(f'Training Akurasi {round(pipe_grad.score(x_train, y_train)*100,2)} %')\n",
    "print(f'Testing Akurasi {round(pipe_grad.score(x_test, y_test)*100,2)} %')"
   ]
  },
  {
   "cell_type": "markdown",
   "metadata": {},
   "source": [
    "### Confusion Matrix"
   ]
  },
  {
   "cell_type": "code",
   "execution_count": 131,
   "metadata": {},
   "outputs": [
    {
     "name": "stdout",
     "output_type": "stream",
     "text": [
      "Confusion matrix\n",
      "\n",
      " [[7046  264]\n",
      " [ 452  476]]\n",
      "\n",
      "True Positives(TP) =  7046\n",
      "\n",
      "True Negatives(TN) =  476\n",
      "\n",
      "False Positives(FP) =  264\n",
      "\n",
      "False Negatives(FN) =  452\n",
      "\n",
      "All Positives 7522\n",
      "\n",
      "All Positives 716\n"
     ]
    }
   ],
   "source": [
    "cm = confusion_matrix(y_test, y_grad)\n",
    "\n",
    "print('Confusion matrix\\n\\n', cm)\n",
    "\n",
    "print('\\nTrue Positives(TP) = ', cm[0,0])\n",
    "\n",
    "print('\\nTrue Negatives(TN) = ', cm[1,1])\n",
    "\n",
    "print('\\nFalse Positives(FP) = ', cm[0,1])\n",
    "\n",
    "print('\\nFalse Negatives(FN) = ', cm[1,0])\n",
    "\n",
    "print(f'\\nAll Positives {cm[0,0] + cm[1,1]}')\n",
    "\n",
    "print(f'\\nAll Positives {cm[0,1] + cm[1,0]}')"
   ]
  },
  {
   "cell_type": "markdown",
   "metadata": {},
   "source": [
    "### Akurasi, Recall, Precision"
   ]
  },
  {
   "cell_type": "code",
   "execution_count": 132,
   "metadata": {},
   "outputs": [
    {
     "name": "stdout",
     "output_type": "stream",
     "text": [
      "Akurasi 91.31 %\n",
      "Recall 51.29 %\n",
      "Precision 64.32 %\n"
     ]
    }
   ],
   "source": [
    "#akurasi, recall, dan precision\n",
    "\n",
    "print(f'Akurasi {round(accuracy_score(y_test, y_grad)*100, 2)} %')\n",
    "print(f'Recall {round(metrics.recall_score(y_test, y_grad)*100, 2)} %')\n",
    "print(f'Precision {round(metrics.precision_score(y_test, y_grad)*100, 2)} %')"
   ]
  },
  {
   "cell_type": "markdown",
   "metadata": {},
   "source": [
    "### Cross Validaition Akurasi, Recall, Precision"
   ]
  },
  {
   "cell_type": "code",
   "execution_count": 133,
   "metadata": {},
   "outputs": [
    {
     "name": "stdout",
     "output_type": "stream",
     "text": [
      "Akurasi Score Cross Validation 91.39 %\n",
      "Recall Score Cross Validation 50.59 %\n",
      "Precision Score Cross Validation 64.92 %\n"
     ]
    }
   ],
   "source": [
    "Cross_validated_Akurasi = cross_val_score(pipe_grad, x, y, cv=ms.KFold(n_splits=5, shuffle=True), scoring='accuracy') #akurasi\n",
    "Cross_validated_Recall = cross_val_score(pipe_grad, x, y, cv=ms.KFold(n_splits=5, shuffle=True), scoring='recall') #akurasi\n",
    "Cross_validated_Precision = cross_val_score(pipe_grad, x, y, cv=ms.KFold(n_splits=5, shuffle=True), scoring='precision') #akurasi\n",
    "\n",
    "print(f'Akurasi Score Cross Validation {round(Cross_validated_Akurasi.mean()*100,2)} %')\n",
    "print(f'Recall Score Cross Validation {round(Cross_validated_Recall.mean()*100,2)} %')\n",
    "print(f'Precision Score Cross Validation {round(Cross_validated_Precision.mean()*100,2)} %')\n"
   ]
  },
  {
   "cell_type": "markdown",
   "metadata": {},
   "source": [
    "### ROC AUC"
   ]
  },
  {
   "cell_type": "code",
   "execution_count": 134,
   "metadata": {},
   "outputs": [
    {
     "data": {
      "image/png": "[encoded data removed]",
      "text/plain": [
       "<Figure size 432x288 with 1 Axes>"
      ]
     },
     "metadata": {
      "needs_background": "light"
     },
     "output_type": "display_data"
    },
    {
     "name": "stdout",
     "output_type": "stream",
     "text": [
      "ROC AUC Score : 94.44 %\n"
     ]
    }
   ],
   "source": [
    "roc_auc = roc_auc_score(y, pipe_grad.predict_proba(x)[:, 1])\n",
    "fpr, tpr, thresholds = roc_curve(y, pipe_grad.predict_proba(x)[:, 1])\n",
    "plt.figure()\n",
    "plt.plot(fpr, tpr, label='Logistic Regression (area = %0.2f)' % roc_auc)\n",
    "plt.plot([0, 1], [0, 1],'r--')\n",
    "plt.xlim([0.0, 1.0])\n",
    "plt.ylim([0.0, 1.05])\n",
    "plt.xlabel('False Positive Rate')\n",
    "plt.ylabel('True Positive Rate')\n",
    "plt.title('Receiver operating characteristic')\n",
    "plt.legend(loc=\"lower right\")\n",
    "plt.savefig('Log_ROC')\n",
    "plt.show()\n",
    "\n",
    "print(f'ROC AUC Score : {round(roc_auc*100,2)} %')\n"
   ]
  },
  {
   "cell_type": "markdown",
   "metadata": {},
   "source": [
    "### Cross Validaition ROC AUC"
   ]
  },
  {
   "cell_type": "code",
   "execution_count": 135,
   "metadata": {},
   "outputs": [
    {
     "name": "stdout",
     "output_type": "stream",
     "text": [
      "ROC AUC Score Cross Validation 94.29 %\n"
     ]
    }
   ],
   "source": [
    "Cross_validated_ROC_AUC = cross_val_score(pipe_grad, x, y, cv=ms.KFold(n_splits=5, shuffle=True), scoring='roc_auc')\n",
    "\n",
    "print(f'ROC AUC Score Cross Validation {round(Cross_validated_ROC_AUC.mean()*100,2)} %')"
   ]
  },
  {
   "cell_type": "markdown",
   "metadata": {},
   "source": [
    "### Classification Report"
   ]
  },
  {
   "cell_type": "code",
   "execution_count": 136,
   "metadata": {},
   "outputs": [
    {
     "name": "stdout",
     "output_type": "stream",
     "text": [
      "              precision    recall  f1-score   support\n",
      "\n",
      "           0       0.94      0.96      0.95      7310\n",
      "           1       0.64      0.51      0.57       928\n",
      "\n",
      "    accuracy                           0.91      8238\n",
      "   macro avg       0.79      0.74      0.76      8238\n",
      "weighted avg       0.91      0.91      0.91      8238\n",
      "\n"
     ]
    }
   ],
   "source": [
    "report = classification_report(y_test, y_grad)\n",
    "print(report)"
   ]
  },
  {
   "cell_type": "markdown",
   "metadata": {},
   "source": [
    "## Hyper Parameter Turning"
   ]
  },
  {
   "cell_type": "code",
   "execution_count": 137,
   "metadata": {},
   "outputs": [],
   "source": [
    "logparam_grid = [\n",
    "    {'model__penalty' : ['l1', 'l2'], 'model__C':[0.1, 0.5, 0.7, 1]}\n",
    "  ]"
   ]
  },
  {
   "cell_type": "code",
   "execution_count": 138,
   "metadata": {},
   "outputs": [
    {
     "data": {
      "text/plain": [
       "GridSearchCV(cv=KFold(n_splits=5, random_state=None, shuffle=True),\n",
       "             estimator=Pipeline(steps=[('tf',\n",
       "                                        ColumnTransformer(remainder='passthrough',\n",
       "                                                          transformers=[('number',\n",
       "                                                                         StandardScaler(),\n",
       "                                                                         ['duration',\n",
       "                                                                          'pdays',\n",
       "                                                                          'previous',\n",
       "                                                                          'emp_var_rate',\n",
       "                                                                          'euribor3m',\n",
       "                                                                          'np_employed']),\n",
       "                                                                        ('obj',\n",
       "                                                                         OneHotEncoder(drop='first',\n",
       "                                                                                       sparse=False),\n",
       "                                                                         ['job',\n",
       "                                                                          'marital',\n",
       "                                                                          'education',\n",
       "                                                                          'default',\n",
       "                                                                          'housing',\n",
       "                                                                          'loan',\n",
       "                                                                          'contact',\n",
       "                                                                          'month',\n",
       "                                                                          'day_of_week',\n",
       "                                                                          'poutcome'])])),\n",
       "                                       ('model', LogisticRegression())]),\n",
       "             param_grid=[{'model__C': [0.1, 0.5, 0.7, 1],\n",
       "                          'model__penalty': ['l1', 'l2']}],\n",
       "             return_train_score=True, scoring='accuracy')"
      ]
     },
     "execution_count": 138,
     "metadata": {},
     "output_type": "execute_result"
    }
   ],
   "source": [
    "grid_searchlog = GridSearchCV(pipe_lr, param_grid= logparam_grid, cv=ms.KFold(n_splits=5, shuffle=True), scoring='accuracy', return_train_score=True)\n",
    "\n",
    "grid_searchlog.fit(x, y)"
   ]
  },
  {
   "cell_type": "code",
   "execution_count": 139,
   "metadata": {},
   "outputs": [
    {
     "data": {
      "text/plain": [
       "Pipeline(steps=[('tf',\n",
       "                 ColumnTransformer(remainder='passthrough',\n",
       "                                   transformers=[('number', StandardScaler(),\n",
       "                                                  ['duration', 'pdays',\n",
       "                                                   'previous', 'emp_var_rate',\n",
       "                                                   'euribor3m',\n",
       "                                                   'np_employed']),\n",
       "                                                 ('obj',\n",
       "                                                  OneHotEncoder(drop='first',\n",
       "                                                                sparse=False),\n",
       "                                                  ['job', 'marital',\n",
       "                                                   'education', 'default',\n",
       "                                                   'housing', 'loan', 'contact',\n",
       "                                                   'month', 'day_of_week',\n",
       "                                                   'poutcome'])])),\n",
       "                ('model', LogisticRegression(C=0.1))])"
      ]
     },
     "execution_count": 139,
     "metadata": {},
     "output_type": "execute_result"
    }
   ],
   "source": [
    "grid_searchlog.best_estimator_"
   ]
  },
  {
   "cell_type": "markdown",
   "metadata": {},
   "source": [
    "Best Parameter untuk logistic regression adalah :\n",
    "- penalty : l2\n",
    "- C = 1"
   ]
  },
  {
   "cell_type": "code",
   "execution_count": 140,
   "metadata": {},
   "outputs": [],
   "source": [
    "svmparam_grid = [\n",
    "    {'SVM__kernel' : ['linear', 'rbf'], 'SVM__C':[0.1, 0.5, 1]}\n",
    "  ]"
   ]
  },
  {
   "cell_type": "code",
   "execution_count": 141,
   "metadata": {},
   "outputs": [
    {
     "data": {
      "text/plain": [
       "GridSearchCV(cv=KFold(n_splits=5, random_state=None, shuffle=True),\n",
       "             estimator=Pipeline(steps=[('tf',\n",
       "                                        ColumnTransformer(remainder='passthrough',\n",
       "                                                          transformers=[('number',\n",
       "                                                                         StandardScaler(),\n",
       "                                                                         ['duration',\n",
       "                                                                          'pdays',\n",
       "                                                                          'previous',\n",
       "                                                                          'emp_var_rate',\n",
       "                                                                          'euribor3m',\n",
       "                                                                          'np_employed']),\n",
       "                                                                        ('obj',\n",
       "                                                                         OneHotEncoder(drop='first',\n",
       "                                                                                       sparse=False),\n",
       "                                                                         ['job',\n",
       "                                                                          'marital',\n",
       "                                                                          'education',\n",
       "                                                                          'default',\n",
       "                                                                          'housing',\n",
       "                                                                          'loan',\n",
       "                                                                          'contact',\n",
       "                                                                          'month',\n",
       "                                                                          'day_of_week',\n",
       "                                                                          'poutcome'])])),\n",
       "                                       ('SVM', SVC(C=0.5, kernel='linear'))]),\n",
       "             param_grid=[{'SVM__C': [0.1, 0.5, 1],\n",
       "                          'SVM__kernel': ['linear', 'rbf']}],\n",
       "             return_train_score=True, scoring='accuracy')"
      ]
     },
     "execution_count": 141,
     "metadata": {},
     "output_type": "execute_result"
    }
   ],
   "source": [
    "grid_searchsvm = GridSearchCV(pipe_svm, param_grid= svmparam_grid, cv=ms.KFold(n_splits=5, shuffle=True), scoring='accuracy', return_train_score=True)\n",
    "\n",
    "grid_searchsvm.fit(x, y)"
   ]
  },
  {
   "cell_type": "code",
   "execution_count": 142,
   "metadata": {},
   "outputs": [
    {
     "data": {
      "text/plain": [
       "Pipeline(steps=[('tf',\n",
       "                 ColumnTransformer(remainder='passthrough',\n",
       "                                   transformers=[('number', StandardScaler(),\n",
       "                                                  ['duration', 'pdays',\n",
       "                                                   'previous', 'emp_var_rate',\n",
       "                                                   'euribor3m',\n",
       "                                                   'np_employed']),\n",
       "                                                 ('obj',\n",
       "                                                  OneHotEncoder(drop='first',\n",
       "                                                                sparse=False),\n",
       "                                                  ['job', 'marital',\n",
       "                                                   'education', 'default',\n",
       "                                                   'housing', 'loan', 'contact',\n",
       "                                                   'month', 'day_of_week',\n",
       "                                                   'poutcome'])])),\n",
       "                ('SVM', SVC(C=1))])"
      ]
     },
     "execution_count": 142,
     "metadata": {},
     "output_type": "execute_result"
    }
   ],
   "source": [
    "grid_searchsvm.best_estimator_"
   ]
  },
  {
   "cell_type": "markdown",
   "metadata": {},
   "source": [
    "Best Parameter untuk SVM adalah :\n",
    "- kernel : liner\n",
    "- C = 1"
   ]
  },
  {
   "cell_type": "code",
   "execution_count": 143,
   "metadata": {},
   "outputs": [],
   "source": [
    "treeparam_grid = [\n",
    "    {'tree__criterion' : ['gini', 'entropy'], 'tree__max_depth':[1, 3, 5, 7, 10]}\n",
    "  ]"
   ]
  },
  {
   "cell_type": "code",
   "execution_count": 144,
   "metadata": {},
   "outputs": [
    {
     "data": {
      "text/plain": [
       "GridSearchCV(cv=KFold(n_splits=5, random_state=None, shuffle=True),\n",
       "             estimator=Pipeline(steps=[('tf',\n",
       "                                        ColumnTransformer(remainder='passthrough',\n",
       "                                                          transformers=[('number',\n",
       "                                                                         StandardScaler(),\n",
       "                                                                         ['duration',\n",
       "                                                                          'pdays',\n",
       "                                                                          'previous',\n",
       "                                                                          'emp_var_rate',\n",
       "                                                                          'euribor3m',\n",
       "                                                                          'np_employed']),\n",
       "                                                                        ('obj',\n",
       "                                                                         OneHotEncoder(drop='first',\n",
       "                                                                                       sparse=False),\n",
       "                                                                         ['job',\n",
       "                                                                          'marital',\n",
       "                                                                          'education',\n",
       "                                                                          'default',\n",
       "                                                                          'housing',\n",
       "                                                                          'loan',\n",
       "                                                                          'contact',\n",
       "                                                                          'month',\n",
       "                                                                          'day_of_week',\n",
       "                                                                          'poutcome'])])),\n",
       "                                       ('tree',\n",
       "                                        DecisionTreeClassifier(max_depth=10))]),\n",
       "             param_grid=[{'tree__criterion': ['gini', 'entropy'],\n",
       "                          'tree__max_depth': [1, 3, 5, 7, 10]}],\n",
       "             return_train_score=True, scoring='accuracy')"
      ]
     },
     "execution_count": 144,
     "metadata": {},
     "output_type": "execute_result"
    }
   ],
   "source": [
    "grid_searchtree = GridSearchCV(pipe_tree, param_grid= treeparam_grid, cv=ms.KFold(n_splits=5, shuffle=True), scoring='accuracy', return_train_score=True)\n",
    "\n",
    "grid_searchtree.fit(x, y)"
   ]
  },
  {
   "cell_type": "code",
   "execution_count": 145,
   "metadata": {},
   "outputs": [
    {
     "data": {
      "text/plain": [
       "Pipeline(steps=[('tf',\n",
       "                 ColumnTransformer(remainder='passthrough',\n",
       "                                   transformers=[('number', StandardScaler(),\n",
       "                                                  ['duration', 'pdays',\n",
       "                                                   'previous', 'emp_var_rate',\n",
       "                                                   'euribor3m',\n",
       "                                                   'np_employed']),\n",
       "                                                 ('obj',\n",
       "                                                  OneHotEncoder(drop='first',\n",
       "                                                                sparse=False),\n",
       "                                                  ['job', 'marital',\n",
       "                                                   'education', 'default',\n",
       "                                                   'housing', 'loan', 'contact',\n",
       "                                                   'month', 'day_of_week',\n",
       "                                                   'poutcome'])])),\n",
       "                ('tree', DecisionTreeClassifier(max_depth=1))])"
      ]
     },
     "execution_count": 145,
     "metadata": {},
     "output_type": "execute_result"
    }
   ],
   "source": [
    "grid_searchtree.best_estimator_"
   ]
  },
  {
   "cell_type": "markdown",
   "metadata": {},
   "source": [
    "Best Parameter untuk decision tree adalah :\n",
    "- criterion : gini\n",
    "- max_depth = 5"
   ]
  },
  {
   "cell_type": "code",
   "execution_count": 146,
   "metadata": {},
   "outputs": [],
   "source": [
    "rnfparam_grid = [\n",
    "    {'RandomForest__n_estimators' : [100,110,120,130,140,150], 'RandomForest__max_depth':[1, 3, 5, 7, 1]}\n",
    "  ]"
   ]
  },
  {
   "cell_type": "code",
   "execution_count": 147,
   "metadata": {},
   "outputs": [
    {
     "data": {
      "text/plain": [
       "GridSearchCV(cv=KFold(n_splits=5, random_state=None, shuffle=True),\n",
       "             estimator=Pipeline(steps=[('tf',\n",
       "                                        ColumnTransformer(remainder='passthrough',\n",
       "                                                          transformers=[('number',\n",
       "                                                                         StandardScaler(),\n",
       "                                                                         ['duration',\n",
       "                                                                          'pdays',\n",
       "                                                                          'previous',\n",
       "                                                                          'emp_var_rate',\n",
       "                                                                          'euribor3m',\n",
       "                                                                          'np_employed']),\n",
       "                                                                        ('obj',\n",
       "                                                                         OneHotEncoder(drop='first',\n",
       "                                                                                       sparse=False),\n",
       "                                                                         ['job',\n",
       "                                                                          'marital',\n",
       "                                                                          'education',\n",
       "                                                                          'default',\n",
       "                                                                          'housing',\n",
       "                                                                          'loan',\n",
       "                                                                          'contact',\n",
       "                                                                          'month',\n",
       "                                                                          'day_of_week',\n",
       "                                                                          'poutcome'])])),\n",
       "                                       ('RandomForest',\n",
       "                                        RandomForestClassifier(max_depth=10))]),\n",
       "             param_grid=[{'RandomForest__max_depth': [1, 3, 5, 7, 1],\n",
       "                          'RandomForest__n_estimators': [100, 110, 120, 130,\n",
       "                                                         140, 150]}],\n",
       "             return_train_score=True, scoring='accuracy')"
      ]
     },
     "execution_count": 147,
     "metadata": {},
     "output_type": "execute_result"
    }
   ],
   "source": [
    "#grid search untuk accuracy\n",
    "\n",
    "grid_searchrnf = GridSearchCV(pipe_rnf, param_grid= rnfparam_grid, cv=ms.KFold(n_splits=5, shuffle=True), scoring='accuracy', return_train_score=True)\n",
    "\n",
    "grid_searchrnf.fit(x, y)"
   ]
  },
  {
   "cell_type": "code",
   "execution_count": 148,
   "metadata": {},
   "outputs": [
    {
     "data": {
      "text/plain": [
       "Pipeline(steps=[('tf',\n",
       "                 ColumnTransformer(remainder='passthrough',\n",
       "                                   transformers=[('number', StandardScaler(),\n",
       "                                                  ['duration', 'pdays',\n",
       "                                                   'previous', 'emp_var_rate',\n",
       "                                                   'euribor3m',\n",
       "                                                   'np_employed']),\n",
       "                                                 ('obj',\n",
       "                                                  OneHotEncoder(drop='first',\n",
       "                                                                sparse=False),\n",
       "                                                  ['job', 'marital',\n",
       "                                                   'education', 'default',\n",
       "                                                   'housing', 'loan', 'contact',\n",
       "                                                   'month', 'day_of_week',\n",
       "                                                   'poutcome'])])),\n",
       "                ('RandomForest',\n",
       "                 RandomForestClassifier(max_depth=7, n_estimators=150))])"
      ]
     },
     "execution_count": 148,
     "metadata": {},
     "output_type": "execute_result"
    }
   ],
   "source": [
    "grid_searchrnf.best_estimator_"
   ]
  },
  {
   "cell_type": "markdown",
   "metadata": {},
   "source": [
    "Best Parameter untuk random forest adalah :\n",
    "- max_depth = 7\n",
    "- n_estimators = 110"
   ]
  },
  {
   "cell_type": "code",
   "execution_count": 149,
   "metadata": {},
   "outputs": [],
   "source": [
    "knnparam_grid = [\n",
    "    {'knn__n_neighbors' : [3, 5, 10]}\n",
    "  ]"
   ]
  },
  {
   "cell_type": "code",
   "execution_count": 150,
   "metadata": {},
   "outputs": [
    {
     "data": {
      "text/plain": [
       "GridSearchCV(cv=KFold(n_splits=5, random_state=None, shuffle=True),\n",
       "             estimator=Pipeline(steps=[('tf',\n",
       "                                        ColumnTransformer(remainder='passthrough',\n",
       "                                                          transformers=[('number',\n",
       "                                                                         StandardScaler(),\n",
       "                                                                         ['duration',\n",
       "                                                                          'pdays',\n",
       "                                                                          'previous',\n",
       "                                                                          'emp_var_rate',\n",
       "                                                                          'euribor3m',\n",
       "                                                                          'np_employed']),\n",
       "                                                                        ('obj',\n",
       "                                                                         OneHotEncoder(drop='first',\n",
       "                                                                                       sparse=False),\n",
       "                                                                         ['job',\n",
       "                                                                          'marital',\n",
       "                                                                          'education',\n",
       "                                                                          'default',\n",
       "                                                                          'housing',\n",
       "                                                                          'loan',\n",
       "                                                                          'contact',\n",
       "                                                                          'month',\n",
       "                                                                          'day_of_week',\n",
       "                                                                          'poutcome'])])),\n",
       "                                       ('knn', KNeighborsClassifier())]),\n",
       "             param_grid=[{'knn__n_neighbors': [3, 5, 10]}],\n",
       "             return_train_score=True, scoring='accuracy')"
      ]
     },
     "execution_count": 150,
     "metadata": {},
     "output_type": "execute_result"
    }
   ],
   "source": [
    "#grid search untuk accuracy\n",
    "\n",
    "grid_searchknn = GridSearchCV(pipe_knn, param_grid= knnparam_grid, cv=ms.KFold(n_splits=5, shuffle=True), scoring='accuracy', return_train_score=True)\n",
    "\n",
    "grid_searchknn.fit(x, y)"
   ]
  },
  {
   "cell_type": "code",
   "execution_count": 151,
   "metadata": {},
   "outputs": [
    {
     "data": {
      "text/plain": [
       "Pipeline(steps=[('tf',\n",
       "                 ColumnTransformer(remainder='passthrough',\n",
       "                                   transformers=[('number', StandardScaler(),\n",
       "                                                  ['duration', 'pdays',\n",
       "                                                   'previous', 'emp_var_rate',\n",
       "                                                   'euribor3m',\n",
       "                                                   'np_employed']),\n",
       "                                                 ('obj',\n",
       "                                                  OneHotEncoder(drop='first',\n",
       "                                                                sparse=False),\n",
       "                                                  ['job', 'marital',\n",
       "                                                   'education', 'default',\n",
       "                                                   'housing', 'loan', 'contact',\n",
       "                                                   'month', 'day_of_week',\n",
       "                                                   'poutcome'])])),\n",
       "                ('knn', KNeighborsClassifier(n_neighbors=10))])"
      ]
     },
     "execution_count": 151,
     "metadata": {},
     "output_type": "execute_result"
    }
   ],
   "source": [
    "grid_searchknn.best_estimator_"
   ]
  },
  {
   "cell_type": "markdown",
   "metadata": {},
   "source": [
    "Best Parameter untuk Knearest neighbors adalah :\n",
    "- n_neigbors : 10"
   ]
  },
  {
   "cell_type": "code",
   "execution_count": 152,
   "metadata": {},
   "outputs": [],
   "source": [
    "nbbparam_grid = [\n",
    "    {'NaiveBernouli__alpha' : [0, 1]}\n",
    "  ]"
   ]
  },
  {
   "cell_type": "code",
   "execution_count": 153,
   "metadata": {},
   "outputs": [
    {
     "data": {
      "text/plain": [
       "GridSearchCV(cv=KFold(n_splits=5, random_state=None, shuffle=True),\n",
       "             estimator=Pipeline(steps=[('tf',\n",
       "                                        ColumnTransformer(remainder='passthrough',\n",
       "                                                          transformers=[('number',\n",
       "                                                                         StandardScaler(),\n",
       "                                                                         ['duration',\n",
       "                                                                          'pdays',\n",
       "                                                                          'previous',\n",
       "                                                                          'emp_var_rate',\n",
       "                                                                          'euribor3m',\n",
       "                                                                          'np_employed']),\n",
       "                                                                        ('obj',\n",
       "                                                                         OneHotEncoder(drop='first',\n",
       "                                                                                       sparse=False),\n",
       "                                                                         ['job',\n",
       "                                                                          'marital',\n",
       "                                                                          'education',\n",
       "                                                                          'default',\n",
       "                                                                          'housing',\n",
       "                                                                          'loan',\n",
       "                                                                          'contact',\n",
       "                                                                          'month',\n",
       "                                                                          'day_of_week',\n",
       "                                                                          'poutcome'])])),\n",
       "                                       ('NaiveBernouli', BernoulliNB())]),\n",
       "             param_grid=[{'NaiveBernouli__alpha': [0, 1]}],\n",
       "             return_train_score=True, scoring='accuracy')"
      ]
     },
     "execution_count": 153,
     "metadata": {},
     "output_type": "execute_result"
    }
   ],
   "source": [
    "#grid search untuk accuracy\n",
    "\n",
    "grid_searchnbb = GridSearchCV(pipe_nbb, param_grid= nbbparam_grid, cv=ms.KFold(n_splits=5, shuffle=True), scoring='accuracy', return_train_score=True)\n",
    "\n",
    "grid_searchnbb.fit(x, y)"
   ]
  },
  {
   "cell_type": "code",
   "execution_count": 154,
   "metadata": {},
   "outputs": [
    {
     "data": {
      "text/plain": [
       "Pipeline(steps=[('tf',\n",
       "                 ColumnTransformer(remainder='passthrough',\n",
       "                                   transformers=[('number', StandardScaler(),\n",
       "                                                  ['duration', 'pdays',\n",
       "                                                   'previous', 'emp_var_rate',\n",
       "                                                   'euribor3m',\n",
       "                                                   'np_employed']),\n",
       "                                                 ('obj',\n",
       "                                                  OneHotEncoder(drop='first',\n",
       "                                                                sparse=False),\n",
       "                                                  ['job', 'marital',\n",
       "                                                   'education', 'default',\n",
       "                                                   'housing', 'loan', 'contact',\n",
       "                                                   'month', 'day_of_week',\n",
       "                                                   'poutcome'])])),\n",
       "                ('NaiveBernouli', BernoulliNB(alpha=1))])"
      ]
     },
     "execution_count": 154,
     "metadata": {},
     "output_type": "execute_result"
    }
   ],
   "source": [
    "grid_searchnbb.best_estimator_"
   ]
  },
  {
   "cell_type": "markdown",
   "metadata": {},
   "source": [
    "Best Parameter untuk naive bayes adalah :\n",
    "- alpha : 1"
   ]
  },
  {
   "cell_type": "code",
   "execution_count": 155,
   "metadata": {},
   "outputs": [],
   "source": [
    "gradparam_grid = [\n",
    "    {'GradBoost__n_estimators' : [100,110,120,130,140,150], 'GradBoost__learning_rate':[0.1, 0.3, 0.5, 0.7, 1]}\n",
    "  ]"
   ]
  },
  {
   "cell_type": "code",
   "execution_count": 156,
   "metadata": {},
   "outputs": [
    {
     "data": {
      "text/plain": [
       "GridSearchCV(cv=KFold(n_splits=5, random_state=None, shuffle=True),\n",
       "             estimator=Pipeline(steps=[('tf',\n",
       "                                        ColumnTransformer(remainder='passthrough',\n",
       "                                                          transformers=[('number',\n",
       "                                                                         StandardScaler(),\n",
       "                                                                         ['duration',\n",
       "                                                                          'pdays',\n",
       "                                                                          'previous',\n",
       "                                                                          'emp_var_rate',\n",
       "                                                                          'euribor3m',\n",
       "                                                                          'np_employed']),\n",
       "                                                                        ('obj',\n",
       "                                                                         OneHotEncoder(drop='first',\n",
       "                                                                                       sparse=False),\n",
       "                                                                         ['job',\n",
       "                                                                          'marital',\n",
       "                                                                          'education',\n",
       "                                                                          'default',\n",
       "                                                                          'housing',\n",
       "                                                                          'loan',\n",
       "                                                                          'contact',\n",
       "                                                                          'month',\n",
       "                                                                          'day_of_week',\n",
       "                                                                          'poutcome'])])),\n",
       "                                       ('GradBoost',\n",
       "                                        GradientBoostingClassifier(max_depth=2))]),\n",
       "             param_grid=[{'GradBoost__learning_rate': [0.1, 0.3, 0.5, 0.7, 1],\n",
       "                          'GradBoost__n_estimators': [100, 110, 120, 130, 140,\n",
       "                                                      150]}],\n",
       "             return_train_score=True, scoring='accuracy')"
      ]
     },
     "execution_count": 156,
     "metadata": {},
     "output_type": "execute_result"
    }
   ],
   "source": [
    "#grid search untuk accuracy\n",
    "\n",
    "grid_searchgrad = GridSearchCV(pipe_grad, param_grid= gradparam_grid, cv=ms.KFold(n_splits=5, shuffle=True), scoring='accuracy', return_train_score=True)\n",
    "\n",
    "grid_searchgrad.fit(x, y)"
   ]
  },
  {
   "cell_type": "code",
   "execution_count": 157,
   "metadata": {},
   "outputs": [
    {
     "data": {
      "text/plain": [
       "Pipeline(steps=[('tf',\n",
       "                 ColumnTransformer(remainder='passthrough',\n",
       "                                   transformers=[('number', StandardScaler(),\n",
       "                                                  ['duration', 'pdays',\n",
       "                                                   'previous', 'emp_var_rate',\n",
       "                                                   'euribor3m',\n",
       "                                                   'np_employed']),\n",
       "                                                 ('obj',\n",
       "                                                  OneHotEncoder(drop='first',\n",
       "                                                                sparse=False),\n",
       "                                                  ['job', 'marital',\n",
       "                                                   'education', 'default',\n",
       "                                                   'housing', 'loan', 'contact',\n",
       "                                                   'month', 'day_of_week',\n",
       "                                                   'poutcome'])])),\n",
       "                ('GradBoost',\n",
       "                 GradientBoostingClassifier(learning_rate=0.3, max_depth=2,\n",
       "                                            n_estimators=140))])"
      ]
     },
     "execution_count": 157,
     "metadata": {},
     "output_type": "execute_result"
    }
   ],
   "source": [
    "grid_searchgrad.best_estimator_"
   ]
  },
  {
   "cell_type": "code",
   "execution_count": 158,
   "metadata": {},
   "outputs": [],
   "source": [
    "log_final = grid_searchlog.best_estimator_\n",
    "svm_final = grid_searchsvm.best_estimator_\n",
    "tree_final = grid_searchtree.best_estimator_\n",
    "rnf_final = grid_searchrnf.best_estimator_\n",
    "knn_final = grid_searchknn.best_estimator_\n",
    "nbb_final = grid_searchnbb.best_estimator_\n",
    "grad_final = grid_searchgrad.best_estimator_"
   ]
  },
  {
   "cell_type": "code",
   "execution_count": 159,
   "metadata": {},
   "outputs": [
    {
     "name": "stdout",
     "output_type": "stream",
     "text": [
      " Akurasi Test 91.11 %\n",
      " Akurasi Cross Validation 91.04 %\n"
     ]
    }
   ],
   "source": [
    "log_pred = log_final.predict(x)\n",
    "\n",
    "score = cross_val_score(log_final, x, y, cv=ms.KFold(n_splits=5, shuffle=True))\n",
    "\n",
    "print(f' Akurasi Test {round(log_final.score(x, y)*100, 2)} %')\n",
    "print(f' Akurasi Cross Validation {round(score.mean()*100, 2)} %')"
   ]
  },
  {
   "cell_type": "code",
   "execution_count": 160,
   "metadata": {},
   "outputs": [
    {
     "name": "stdout",
     "output_type": "stream",
     "text": [
      " Akurasi Test 92.06 %\n",
      " Akurasi Cross Validation 91.16 %\n"
     ]
    }
   ],
   "source": [
    "svm_pred = svm_final.predict(x)\n",
    "\n",
    "score = cross_val_score(svm_final, x, y, cv=ms.KFold(n_splits=5, shuffle=True))\n",
    "\n",
    "print(f' Akurasi Test {round(svm_final.score(x, y)*100, 2)} %')\n",
    "print(f' Akurasi Cross Validation {round(score.mean()*100, 2)} %')"
   ]
  },
  {
   "cell_type": "code",
   "execution_count": 161,
   "metadata": {},
   "outputs": [
    {
     "name": "stdout",
     "output_type": "stream",
     "text": [
      " Akurasi Test 88.73 %\n",
      " Akurasi Cross Validation 88.73 %\n"
     ]
    }
   ],
   "source": [
    "tree_pred = tree_final.predict(x)\n",
    "\n",
    "score = cross_val_score(tree_final, x, y, cv=ms.KFold(n_splits=5, shuffle=True))\n",
    "\n",
    "print(f' Akurasi Test {round(tree_final.score(x, y)*100, 2)} %')\n",
    "print(f' Akurasi Cross Validation {round(score.mean()*100, 2)} %')"
   ]
  },
  {
   "cell_type": "code",
   "execution_count": 162,
   "metadata": {},
   "outputs": [
    {
     "name": "stdout",
     "output_type": "stream",
     "text": [
      " Akurasi Test 90.77 %\n",
      " Akurasi Cross Validation 90.54 %\n"
     ]
    }
   ],
   "source": [
    "rnf_pred = rnf_final.predict(x)\n",
    "\n",
    "score = cross_val_score(rnf_final, x, y, cv=ms.KFold(n_splits=5, shuffle=True))\n",
    "\n",
    "print(f' Akurasi Test {round(rnf_final.score(x, y)*100, 2)} %')\n",
    "print(f' Akurasi Cross Validation {round(score.mean()*100, 2)} %')"
   ]
  },
  {
   "cell_type": "code",
   "execution_count": 163,
   "metadata": {},
   "outputs": [
    {
     "name": "stdout",
     "output_type": "stream",
     "text": [
      " Akurasi Test 91.92 %\n",
      " Akurasi Cross Validation nan %\n"
     ]
    }
   ],
   "source": [
    "knn_pred = knn_final.predict(x)\n",
    "\n",
    "score = cross_val_score(knn_final, x, y, cv=ms.KFold(n_splits=5, shuffle=True))\n",
    "\n",
    "print(f' Akurasi Test {round(knn_final.score(x, y)*100, 2)} %')\n",
    "print(f' Akurasi Cross Validation {round(score.mean()*100, 2)} %')"
   ]
  },
  {
   "cell_type": "code",
   "execution_count": 164,
   "metadata": {},
   "outputs": [
    {
     "name": "stdout",
     "output_type": "stream",
     "text": [
      " Akurasi Test 83.47 %\n",
      " Akurasi Cross Validation 83.43 %\n"
     ]
    }
   ],
   "source": [
    "nbb_pred = nbb_final.predict(x)\n",
    "\n",
    "score = cross_val_score(nbb_final, x, y, cv=ms.KFold(n_splits=5, shuffle=True))\n",
    "\n",
    "print(f' Akurasi Test {round(nbb_final.score(x, y)*100, 2)} %')\n",
    "print(f' Akurasi Cross Validation {round(score.mean()*100, 2)} %')"
   ]
  },
  {
   "cell_type": "code",
   "execution_count": 165,
   "metadata": {},
   "outputs": [
    {
     "name": "stdout",
     "output_type": "stream",
     "text": [
      " Akurasi Test 92.11 %\n",
      " Akurasi Cross Validation 91.59 %\n"
     ]
    }
   ],
   "source": [
    "grad_pred = grad_final.predict(x)\n",
    "\n",
    "score = cross_val_score(grad_final, x, y, cv=ms.KFold(n_splits=5, shuffle=True))\n",
    "\n",
    "print(f' Akurasi Test {round(grad_final.score(x, y)*100, 2)} %')\n",
    "print(f' Akurasi Cross Validation {round(score.mean()*100, 2)} %')"
   ]
  },
  {
   "cell_type": "markdown",
   "metadata": {},
   "source": [
    "Dari semua model yang telah dilakukan hyperparameter tuning, hasil score akurasi tertinggi adalah model Gradient Boosting"
   ]
  },
  {
   "cell_type": "code",
   "execution_count": 166,
   "metadata": {},
   "outputs": [
    {
     "data": {
      "text/plain": [
       "Pipeline(steps=[('preparation',\n",
       "                 ColumnTransformer(remainder='passthrough',\n",
       "                                   transformers=[('number', StandardScaler(),\n",
       "                                                  ['duration', 'pdays',\n",
       "                                                   'previous', 'emp_var_rate',\n",
       "                                                   'euribor3m',\n",
       "                                                   'np_employed']),\n",
       "                                                 ('obj',\n",
       "                                                  OneHotEncoder(drop='first',\n",
       "                                                                sparse=False),\n",
       "                                                  ['job', 'marital',\n",
       "                                                   'education', 'default',\n",
       "                                                   'housing', 'loan', 'contact',\n",
       "                                                   'month', 'day_of_week',\n",
       "                                                   'poutcome'])])),\n",
       "                ('GradBoost',\n",
       "                 GradientBoostingClassifier(learning_rate=0.3, max_depth=2,\n",
       "                                            n_estimators=150))])"
      ]
     },
     "execution_count": 166,
     "metadata": {},
     "output_type": "execute_result"
    }
   ],
   "source": [
    "full_pipeline_with_predictor = Pipeline([\n",
    "        (\"preparation\", trf),\n",
    "        (\"GradBoost\", GradientBoostingClassifier(learning_rate=0.3, max_depth=2, n_estimators=150))\n",
    "    ])\n",
    "\n",
    "full_pipeline_with_predictor.fit(x, y)"
   ]
  },
  {
   "cell_type": "code",
   "execution_count": 169,
   "metadata": {},
   "outputs": [],
   "source": [
    "my_model = full_pipeline_with_predictor"
   ]
  },
  {
   "cell_type": "code",
   "execution_count": 170,
   "metadata": {},
   "outputs": [],
   "source": [
    "import joblib\n",
    "joblib.dump(my_model, \"my_model_final.pkl\") # DIFF\n",
    "#...\n",
    "my_model_loaded = joblib.load(\"my_model_final.pkl\") # DIFF"
   ]
  },
  {
   "cell_type": "markdown",
   "metadata": {},
   "source": [
    "# Kesimpulan"
   ]
  },
  {
   "cell_type": "markdown",
   "metadata": {},
   "source": [
    "## Model Analysis"
   ]
  },
  {
   "cell_type": "markdown",
   "metadata": {},
   "source": [
    "Dari hasil testing dan training model diatas, dapat diambil beberapa kesimpulan bahwa :\n",
    "- Semua model menunjukan hasil yang baik dengan fit yang baik (GoodFit), dilihat dari semua metric terutama yang saya jadikan acuan adalah akurasi\n",
    "- Setelah dilakukan Hyperparameter Tuning model tidak mengalami kenaikan performa secara signifikan.\n",
    "\n",
    "Dengan acuan metric `Akurasi`, saya memilih untuk menggunakan model `Gradient Boosting` dengan parameter **Learning Rate = 0,3**, **Max_depth = 2**, dan **n_estimators = 150**"
   ]
  },
  {
   "cell_type": "markdown",
   "metadata": {},
   "source": [
    "## Overall Analysis"
   ]
  },
  {
   "cell_type": "markdown",
   "metadata": {},
   "source": [
    "dari hasil obeservasi dan explorasi data sederhana, dapat diambil kesimpulan bahwa :\n",
    "- Data telah bersih dari missing value\n",
    "- Data Label termasuk kedalam imbalnce data yang dapat dilihat dari visualisasi data diatas\n",
    "- Terdapat banyak sekali kolom numeric yang bisa dijadikan feature untuk masuk kedalam model machine learning, hal ini dapat dilihat dari nilai korelasi banyak yang melibihi treshold yang saya tentukan yakni +-0.2"
   ]
  }
 ],
 "metadata": {
  "interpreter": {
   "hash": "e6541588d977c588de31b744bf0dc6267cb9b4545c2283a0ebba4ba4a160c374"
  },
  "kernelspec": {
   "display_name": "Python 3.8.11 64-bit ('Hacktiv8': conda)",
   "name": "python3"
  },
  "language_info": {
   "codemirror_mode": {
    "name": "ipython",
    "version": 3
   },
   "file_extension": ".py",
   "mimetype": "text/x-python",
   "name": "python",
   "nbconvert_exporter": "python",
   "pygments_lexer": "ipython3",
   "version": "3.8.11"
  },
  "orig_nbformat": 4
 },
 "nbformat": 4,
 "nbformat_minor": 2
}
